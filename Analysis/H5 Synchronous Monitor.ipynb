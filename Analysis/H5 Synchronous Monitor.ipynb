{
 "cells": [
  {
   "cell_type": "code",
   "id": "initial_id",
   "metadata": {
    "collapsed": true,
    "ExecuteTime": {
     "end_time": "2025-03-18T16:53:35.622595Z",
     "start_time": "2025-03-18T16:53:02.119588Z"
    }
   },
   "source": [
    "import h5py\n",
    "import numpy as np\n",
    "import pandas as pd\n",
    "import plotly.graph_objects as go\n",
    "import ipywidgets as widgets\n",
    "from plotly.subplots import make_subplots\n",
    "import time\n",
    "\n",
    "target=r\"J:\\ctgroup\\Edward\\DATA\\VMI\\20250307\\po4w_angle_sweep\\15.cv4\"\n",
    "t_range=[0,10_000]\n",
    "\n",
    "xy_hist=np.zeros((256,256))\n",
    "xy_bins=np.linspace(0,256,257)\n",
    "xy_c=np.linspace(0,255,256)\n",
    "t_hist=np.zeros(1024)\n",
    "t_bins=np.linspace(t_range[0],t_range[1],1025)\n",
    "t_c=np.linspace(t_range[0],t_range[1],1024)\n",
    "\n",
    "\n",
    "df=pd.DataFrame(columns=[\"x\",\"y\",\"t\",\"shot_index\"])\n",
    "current_idx=0\n",
    "\n",
    "fig=make_subplots(rows=1,cols=2,subplot_titles=(\"XY\",\"T\"))\n",
    "fig.update_layout(width=1200,height=600)\n",
    "fig=go.FigureWidget(fig)\n",
    "fig.add_trace(go.Heatmap(z=xy_hist),row=1,col=1)\n",
    "fig.add_trace(go.Bar(x=t_c,y=t_hist),row=1,col=2)\n",
    "display(fig)\n",
    "\n",
    "\n",
    "def load_data(file,curr_idx,df=None,l=-1):\n",
    "    if l==-1:\n",
    "        l=len(file[\"x\"])-curr_idx\n",
    "    x=file[\"x\"][curr_idx:curr_idx+l]\n",
    "    y=file[\"y\"][curr_idx:curr_idx+l]\n",
    "    t=file[\"t\"][curr_idx:curr_idx+l]\n",
    "    pulse=file[\"cluster_corr\"][curr_idx:curr_idx+l]\n",
    "    df=pd.concat([df,pd.DataFrame({\"x\":x,\"y\":y,\"t\":t, \"shot_index\":pulse})]) if df is not None else pd.DataFrame({\"x\":x,\"y\":y,\"t\":t, \"shot_index\":pulse})\n",
    "    return df\n",
    "\n",
    "def update_hist(x,y,t,xy_hist,t_hist):\n",
    "    xy_hist+=np.histogram2d(x,y,bins=[xy_bins,xy_bins])[0]\n",
    "    t_hist+=np.histogram(t,bins=t_bins)[0]\n",
    "    return xy_hist,t_hist\n",
    "\n",
    "def update_plot(f,xy_hist,t_hist):\n",
    "    f.data[0].z=xy_hist/np.sum(xy_hist)\n",
    "    f.data[1].y=t_hist/np.sum(t_hist)\n",
    "    \n",
    "    \n",
    "file=h5py.File(target,\"r\")\n",
    "print(file.keys())\n",
    "def update():\n",
    "    global current_idx,df,xy_hist,t_hist,file\n",
    "    df=load_data(file,current_idx,l=100000)\n",
    "    df=df[df[\"t\"]<300]\n",
    "    xy_hist,t_hist=update_hist(df[\"x\"],df[\"y\"],df[\"t\"],xy_hist,t_hist)\n",
    "    update_plot(fig,xy_hist,t_hist)\n",
    "    fig.update_layout(title=f\"Shots: {df['shot_index'].iloc[-1]}, Counts: {int(sum(t_hist))}, Count Rate: {sum(t_hist)/df['shot_index'].iloc[-1]:.2f}\")\n",
    "    current_idx+=len(df)\n",
    "    \n",
    "#update every 1 second\n",
    "for i in range(30):\n",
    "    update()\n",
    "    time.sleep(1)\n",
    "    "
   ],
   "outputs": [
    {
     "data": {
      "application/vnd.jupyter.widget-view+json": {
       "version_major": 2,
       "version_minor": 0,
       "model_id": "852f2e5f88894ddabc55bf4e55758d2e"
      },
      "text/plain": [
       "FigureWidget({\n",
       "    'data': [{'type': 'heatmap',\n",
       "              'uid': '520d5cc7-2bd7-486a-b4f7-cc4590ef6dba',\n",
       "              'xaxis': 'x',\n",
       "              'yaxis': 'y',\n",
       "              'z': array([[0., 0., 0., ..., 0., 0., 0.],\n",
       "                          [0., 0., 0., ..., 0., 0., 0.],\n",
       "                          [0., 0., 0., ..., 0., 0., 0.],\n",
       "                          ...,\n",
       "                          [0., 0., 0., ..., 0., 0., 0.],\n",
       "                          [0., 0., 0., ..., 0., 0., 0.],\n",
       "                          [0., 0., 0., ..., 0., 0., 0.]])},\n",
       "             {'type': 'bar',\n",
       "              'uid': '4b316cc5-20d2-4263-8529-6842e09e2fb4',\n",
       "              'x': array([0.00000000e+00, 9.77517107e+00, 1.95503421e+01, ..., 9.98044966e+03,\n",
       "                          9.99022483e+03, 1.00000000e+04]),\n",
       "              'xaxis': 'x2',\n",
       "              'y': array([0., 0., 0., ..., 0., 0., 0.]),\n",
       "              'yaxis': 'y2'}],\n",
       "    'layout': {'annotations': [{'font': {'size': 16},\n",
       "                                'showarrow': False,\n",
       "                                'text': 'XY',\n",
       "                                'x': 0.225,\n",
       "                                'xanchor': 'center',\n",
       "                                'xref': 'paper',\n",
       "                                'y': 1.0,\n",
       "                                'yanchor': 'bottom',\n",
       "                                'yref': 'paper'},\n",
       "                               {'font': {'size': 16},\n",
       "                                'showarrow': False,\n",
       "                                'text': 'T',\n",
       "                                'x': 0.775,\n",
       "                                'xanchor': 'center',\n",
       "                                'xref': 'paper',\n",
       "                                'y': 1.0,\n",
       "                                'yanchor': 'bottom',\n",
       "                                'yref': 'paper'}],\n",
       "               'height': 600,\n",
       "               'template': '...',\n",
       "               'width': 1200,\n",
       "               'xaxis': {'anchor': 'y', 'domain': [0.0, 0.45]},\n",
       "               'xaxis2': {'anchor': 'y2', 'domain': [0.55, 1.0]},\n",
       "               'yaxis': {'anchor': 'x', 'domain': [0.0, 1.0]},\n",
       "               'yaxis2': {'anchor': 'x2', 'domain': [0.0, 1.0]}}\n",
       "})"
      ]
     },
     "metadata": {},
     "output_type": "display_data"
    },
    {
     "name": "stdout",
     "output_type": "stream",
     "text": [
      "<KeysViewHDF5 ['cluster_corr', 'etof_corr', 't', 't_etof', 't_pulse', 't_tof', 'tof_corr', 'x', 'y']>\n"
     ]
    }
   ],
   "execution_count": 31
  },
  {
   "metadata": {},
   "cell_type": "code",
   "outputs": [],
   "execution_count": null,
   "source": "    ",
   "id": "331587393d463cb4"
  }
 ],
 "metadata": {
  "kernelspec": {
   "display_name": "Python 3",
   "language": "python",
   "name": "python3"
  },
  "language_info": {
   "codemirror_mode": {
    "name": "ipython",
    "version": 2
   },
   "file_extension": ".py",
   "mimetype": "text/x-python",
   "name": "python",
   "nbconvert_exporter": "python",
   "pygments_lexer": "ipython2",
   "version": "2.7.6"
  }
 },
 "nbformat": 4,
 "nbformat_minor": 5
}
