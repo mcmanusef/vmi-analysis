{
 "cells": [
  {
   "metadata": {},
   "cell_type": "code",
   "source": [
    "import pandas as pd\n",
    "import plotly.express as px\n",
    "\n",
    "fileparts = {\n",
    "    200: \"200mW\",\n",
    "    400: \"400mW\",\n",
    "    600: \"600mW\",\n",
    "    800: \"800mW\",\n",
    "    1000: \"1W\",\n",
    "    1200: \"1,2W\",\n",
    "    1400: \"1,4W\",\n",
    "    1600: \"1,6W\",\n",
    "    1800: \"1,8W\",\n",
    "    2000: \"2W\",\n",
    "}\n",
    "\n",
    "gate_names = ('C2H4', 'C2H3O', 'Parent')\n",
    "gates = ((23, 30), (38, 46), (53, 59))\n",
    "\n",
    "\n",
    "def gate(mq):\n",
    "    for gate_name, (low, high) in zip(gate_names, gates):\n",
    "        if low <= mq <= high:\n",
    "            return gate_name\n",
    "    return \"Other\"\n",
    "\n",
    "\n",
    "full_df = pd.DataFrame()\n",
    "\n",
    "for power, name in fileparts.items():\n",
    "    df = pd.read_hdf(fr\"J:\\ctgroup\\Edward\\DATA\\VMI\\20250408\\calibrated\\po_{name}_lin_calibrated.h5\", key=\"data\")\n",
    "    p_max = 0.6\n",
    "    df_filtered = df.query(\n",
    "            f'(px > -{p_max}) & (px < {p_max}) & (py > -{p_max}) & (py < {p_max}) & (pz > -{p_max}) & (pz < {p_max})')\n",
    "    df_filtered = df_filtered[(df_filtered['m/q'] > 0) & (df_filtered['m/q'] < 100)]\n",
    "    df_filtered['gate'] = df_filtered['m/q'].apply(gate)\n",
    "    df_filtered.sort_values(by=['m/q'], ascending=False, inplace=True)\n",
    "    df_filtered['power'] = power\n",
    "    df_filtered['normalization'] = 1 / len(df_filtered)\n",
    "    print(f\"Power: {power} mW, Number of events: {len(df_filtered)}\")\n",
    "    full_df = pd.concat([full_df, df_filtered], ignore_index=True)\n",
    "    print(f\"Total number of events: {len(full_df)}, Total size: {full_df.memory_usage(deep=True).sum() / 1e6:.2f} MB\")\n",
    "    del df_filtered, df\n",
    "\n",
    "full_df.head()"
   ],
   "id": "10d78197c1731d2d",
   "outputs": [],
   "execution_count": null
  },
  {
   "metadata": {},
   "cell_type": "code",
   "source": [
    "fig = px.density_heatmap(\n",
    "        full_df,\n",
    "        x=\"power\",\n",
    "        y='m/q',\n",
    "        z=\"normalization\",\n",
    "        marginal_y=\"histogram\",\n",
    ")\n",
    "fig.show()"
   ],
   "id": "18ab92eafbddcd28",
   "outputs": [],
   "execution_count": null
  },
  {
   "metadata": {},
   "cell_type": "code",
   "source": "",
   "id": "ee6a17ebc50fb628",
   "outputs": [],
   "execution_count": null
  }
 ],
 "metadata": {
  "kernelspec": {
   "display_name": "Python 3",
   "language": "python",
   "name": "python3"
  },
  "language_info": {
   "codemirror_mode": {
    "name": "ipython",
    "version": 2
   },
   "file_extension": ".py",
   "mimetype": "text/x-python",
   "name": "python",
   "nbconvert_exporter": "python",
   "pygments_lexer": "ipython2",
   "version": "2.7.6"
  }
 },
 "nbformat": 4,
 "nbformat_minor": 5
}
