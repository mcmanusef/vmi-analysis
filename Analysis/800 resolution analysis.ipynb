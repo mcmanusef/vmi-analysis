{
 "cells": [
  {
   "cell_type": "code",
   "id": "initial_id",
   "metadata": {
    "collapsed": true
   },
   "source": [
    "import pandas as pd\n",
    "import plotly.express as px\n"
   ],
   "outputs": [],
   "execution_count": null
  },
  {
   "metadata": {},
   "cell_type": "code",
   "source": [
    "fname = r\"J:\\ctgroup\\Edward\\DATA\\VMI\\20220613\\xe005_e_calibrated.h5\"\n",
    "base_data = pd.read_hdf(fname, key=\"data\")\n",
    "data = base_data.query(\"sqrt(px**2+py**2+pz**2)<0.4\").reset_index(drop=True)\n",
    "data = data.query(\"abs(py)<0.5\").reset_index(drop=True)\n",
    "data = data.query(\"pz>0\")\n",
    "\n",
    "px.histogram(data, x='pz')"
   ],
   "id": "bf3f4cdc96a00522",
   "outputs": [],
   "execution_count": null
  },
  {
   "metadata": {},
   "cell_type": "code",
   "source": "",
   "id": "7e065ac55d1bf4ca",
   "outputs": [],
   "execution_count": null
  }
 ],
 "metadata": {
  "kernelspec": {
   "display_name": "Python 3",
   "language": "python",
   "name": "python3"
  },
  "language_info": {
   "codemirror_mode": {
    "name": "ipython",
    "version": 2
   },
   "file_extension": ".py",
   "mimetype": "text/x-python",
   "name": "python",
   "nbconvert_exporter": "python",
   "pygments_lexer": "ipython2",
   "version": "2.7.6"
  }
 },
 "nbformat": 4,
 "nbformat_minor": 5
}
