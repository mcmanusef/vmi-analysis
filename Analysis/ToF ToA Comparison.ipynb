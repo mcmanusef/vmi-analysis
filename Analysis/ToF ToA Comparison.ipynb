{
 "cells": [
  {
   "cell_type": "code",
   "id": "initial_id",
   "metadata": {
    "collapsed": true
   },
   "source": [
    "import pandas as pd\n",
    "import plotly.express as px\n",
    "\n",
    "file = r\"J:\\ctgroup\\Edward\\DATA\\VMI\\20250303\\Propylene Oxide 2W_calibrated\\0_calibrated.h5\"\n",
    "df = pd.read_hdf(file, key='data')\n",
    "df.head()"
   ],
   "outputs": [],
   "execution_count": null
  },
  {
   "metadata": {},
   "cell_type": "code",
   "source": [
    "import numpy as np\n",
    "import sklearn\n",
    "\n",
    "df_filtered = df[(df['raw_t'] > 200) & (df['raw_etof'] > 470) & (df['raw_t'] < 240) & (df['raw_etof'] < 510) & (\n",
    "        df['px'] ** 2 + df['py'] ** 2 < 0.004)]\n",
    "df_filtered['etof_diff'] = df_filtered['raw_etof'] - df_filtered['raw_t']\n",
    "px.density_heatmap(df_filtered, x='raw_t', y=\"raw_etof\", nbinsx=1000, nbinsy=1000, marginal_x=\"histogram\",\n",
    "                   marginal_y=\"histogram\", width=800, height=800).show()\n",
    "px.histogram(df_filtered, x='etof_diff', nbins=1000, width=800, height=800).show()\n",
    "\n",
    "h2d, xedges, yedges = np.histogram2d(df_filtered['raw_t'], df_filtered['raw_etof'], bins=1000)\n",
    "xv = 0.5 * (xedges[1:] + xedges[:-1])\n",
    "yv = 0.5 * (yedges[1:] + yedges[:-1])\n",
    "\n",
    "pts = np.vstack(df_filtered[['raw_t', 'raw_etof']].values)\n",
    "principal_components = sklearn.decomposition.PCA(n_components=2).fit(pts)\n",
    "direction = principal_components.components_[0]\n",
    "mean = principal_components.mean_\n",
    "t = np.linspace(-5, 5, 100)\n",
    "line = mean[None, :] + t[:, None]\n",
    "\n",
    "px.imshow(h2d.T, x=xv, y=yv, color_continuous_scale='Viridis', aspect='auto', origin='lower').update_layout(\n",
    "        xaxis_title='raw_t',\n",
    "        yaxis_title='raw_etof',\n",
    "        width=800,\n",
    "        height=800\n",
    ").add_trace(\n",
    "        px.line(x=line[:, 0], y=line[:, 1], color_discrete_sequence=['red'], line_shape='spline').data[0]\n",
    ").show()"
   ],
   "id": "a82a1c546bbd442a",
   "outputs": [],
   "execution_count": null
  },
  {
   "metadata": {},
   "cell_type": "code",
   "source": "",
   "id": "f05fe0932b8f77bf",
   "outputs": [],
   "execution_count": null
  }
 ],
 "metadata": {
  "kernelspec": {
   "display_name": "Python 3",
   "language": "python",
   "name": "python3"
  },
  "language_info": {
   "codemirror_mode": {
    "name": "ipython",
    "version": 2
   },
   "file_extension": ".py",
   "mimetype": "text/x-python",
   "name": "python",
   "nbconvert_exporter": "python",
   "pygments_lexer": "ipython2",
   "version": "2.7.6"
  }
 },
 "nbformat": 4,
 "nbformat_minor": 5
}
