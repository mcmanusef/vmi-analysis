{
 "cells": [
  {
   "metadata": {
    "ExecuteTime": {
     "end_time": "2025-03-12T17:43:53.223874Z",
     "start_time": "2025-03-12T17:42:41.007114Z"
    }
   },
   "cell_type": "code",
   "source": [
    "from vmi_analysis import coincidence_v4\n",
    "from vmi_analysis import calibrations\n",
    "import numpy as np\n",
    "import matplotlib.pyplot as plt\n",
    "file=r\"J:\\ctgroup\\Edward\\DATA\\VMI\\20250307\\po4w30deg\\30.cv4\"\n",
    "\n",
    "x,y,t,etof,itof=coincidence_v4.load_file(file)\n",
    "xn,yn,tn,etofn,_=coincidence_v4.load_file(file,coincidence=False)\n",
    "etof+=0.26*np.random.random_sample(len(etof))\n",
    "etofn+=0.26*np.random.random_sample(len(etofn))"
   ],
   "id": "a4bcb57eb376bc23",
   "outputs": [
    {
     "name": "stdout",
     "output_type": "stream",
     "text": [
      "Loading J:\\ctgroup\\Edward\\DATA\\VMI\\20250307\\po4w30deg\\30.mat\n",
      "Loading J:\\ctgroup\\Edward\\DATA\\VMI\\20250307\\po4w30deg\\30.cv4 (No Coincidence: 6552840 clusters, 4310489 etofs, 2948033 itofs\n"
     ]
    }
   ],
   "execution_count": 1
  },
  {
   "metadata": {},
   "cell_type": "code",
   "source": [
    "px,py,pz=calibrations.calibration_20250303(x,y,etof,symmetrize=False)\n",
    "pxn,pyn,pzn=calibrations.calibration_20250303(xn,yn,etofn,symmetrize=False)"
   ],
   "id": "4e5ab459a0e1dd37",
   "outputs": [],
   "execution_count": null
  },
  {
   "metadata": {},
   "cell_type": "code",
   "source": [
    "%matplotlib nbagg\n",
    "import skimage\n",
    "\n",
    "y_mask=(py>-0.1) & (py<0.1)\n",
    "\n",
    "plt.figure(figsize=(10,20))\n",
    "plt.subplot(8,1,1)\n",
    "\n",
    "plt.hist(itof,bins=3000,range=(0,20000),color='g',alpha=0.7,label='i-ToF')\n",
    "\n",
    "itof_edges=(6000,9000, 11580,13930,16000)\n",
    "itof_masks=[(itof>itof_edges[i]) & (itof<itof_edges[i+1]) & y_mask for i in range(len(itof_edges)-1)]\n",
    "\n",
    "pr,ptheta,pphi=np.sqrt(px**2+py**2+pz**2),np.arctan2(pz,px),np.arctan2(py,np.sqrt(px**2+pz**2))\n",
    "prn,pthetan,pphin=np.sqrt(pxn**2+pyn**2+pzn**2),np.arctan2(pzn,pxn),np.arctan2(pyn,np.sqrt(pxn**2+pzn**2))\n",
    "for i,mask in enumerate(itof_masks):\n",
    "    plt.subplot(8,5,5+i+1)\n",
    "    hist,xe,ze=np.histogram2d(px[mask],pz[mask],bins=256,range=((-0.6,0.6),(-0.6,0.6)),density=True)\n",
    "    # dog=skimage.filters.difference_of_gaussians(hist,5,30)\n",
    "    dog=hist\n",
    "    plt.imshow(dog.T,origin='lower',aspect='equal')\n",
    "    plt.axis('off')\n",
    "\n",
    "plt.subplot(8,1,3)\n",
    "\n",
    "yn_mask=(pyn>-0.1) & (pyn<0.1)\n",
    "m=1\n",
    "# hist,thetha_e,r_e=np.histogram2d((pthetan[yn_mask]+np.pi),prn[yn_mask],bins=512,range=((0,2*np.pi),(0.1,0.5)),density=True)\n",
    "hist,thetha_e,r_e=np.histogram2d(ptheta[itof_masks[m]]+np.pi,pr[itof_masks[m]],bins=512,range=((0,2*np.pi),(0.1,0.5)),density=True)\n",
    "hist=skimage.filters.difference_of_gaussians(hist,7,30,mode='wrap')\n",
    "\n",
    "# ridges= skimage.filters.meijering(hist)\n",
    "plt.imshow(hist.T,origin='lower',aspect='auto',extent=(-np.pi,np.pi,.1,0.5), interpolation='bilinear')\n",
    "\n",
    "\n",
    "plt.subplot(2,1,2)\n",
    "rr,thth=np.meshgrid(r_e[:-1],thetha_e[:-1])\n",
    "xx,yy=rr*np.cos(thth),rr*np.sin(thth)\n",
    "plt.contourf(xx,yy,hist,levels=100)\n",
    "plt.axis('off')\n",
    "plt.axis('equal')\n",
    "plt.tight_layout()\n",
    "# plt.contourf(,r_e[:-1]*np.sin(thetha_e)[:-1],hist,levels=100)\n",
    "plt.show()"
   ],
   "id": "37a53e27063d302a",
   "outputs": [],
   "execution_count": null
  },
  {
   "metadata": {},
   "cell_type": "code",
   "source": "",
   "id": "1b9985e4f5cab756",
   "outputs": [],
   "execution_count": null
  },
  {
   "metadata": {},
   "cell_type": "code",
   "source": "",
   "id": "3a9e73d9fcef3784",
   "outputs": [],
   "execution_count": null
  }
 ],
 "metadata": {
  "kernelspec": {
   "display_name": "Python 3",
   "language": "python",
   "name": "python3"
  },
  "language_info": {
   "codemirror_mode": {
    "name": "ipython",
    "version": 2
   },
   "file_extension": ".py",
   "mimetype": "text/x-python",
   "name": "python",
   "nbconvert_exporter": "python",
   "pygments_lexer": "ipython2",
   "version": "2.7.6"
  }
 },
 "nbformat": 4,
 "nbformat_minor": 5
}
