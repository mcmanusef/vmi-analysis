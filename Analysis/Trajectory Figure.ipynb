{
 "cells": [
  {
   "metadata": {},
   "cell_type": "code",
   "source": [
    "\n",
    "import numpy as np\n",
    "import pandas as pd\n",
    "import plotly.graph_objects as go\n"
   ],
   "id": "89dc59c9d700d9dc",
   "outputs": [],
   "execution_count": null
  },
  {
   "metadata": {},
   "cell_type": "code",
   "source": [
    "l3_folder = r\"D:\\DATA\\Trajectories\\L3\"\n",
    "l5_folder = r\"D:\\DATA\\Trajectories\\L5\"\n",
    "\n",
    "l3_paths = []\n",
    "l5_paths = []\n",
    "for i in range(1, 51):\n",
    "    file = fr\"{l3_folder}\\traj.{i}\"\n",
    "    df = pd.read_csv(file, sep=r\"\\s+\", header=None, names=[\"t\", \"x\", \"y\", \"px\", \"py\"])\n",
    "    df[\"r\"] = np.sqrt(df[\"x\"] ** 2 + df[\"y\"] ** 2)\n",
    "    df[\"pr\"] = np.sqrt(df[\"px\"] ** 2 + df[\"py\"] ** 2)\n",
    "    df[\"i\"] = i\n",
    "    df[\"l\"] = 3\n",
    "    l3_paths.append(df)\n",
    "\n",
    "for i in range(1, 51):\n",
    "    file = fr\"{l5_folder}\\traj.{i}\"\n",
    "    df = pd.read_csv(file, sep=r\"\\s+\", header=None, names=[\"t\", \"x\", \"y\", \"px\", \"py\"])\n",
    "    df[\"r\"] = np.sqrt(df[\"x\"] ** 2 + df[\"y\"] ** 2)\n",
    "    df[\"pr\"] = np.sqrt(df[\"px\"] ** 2 + df[\"py\"] ** 2)\n",
    "    df[\"i\"] = i\n",
    "    df[\"l\"] = 5\n",
    "    l5_paths.append(df)\n",
    "\n",
    "l3_com = r\"D:\\DATA\\Trajectories\\L3\\L3-COM-Traj.dat\"\n",
    "l5_com = r\"D:\\DATA\\Trajectories\\L5\\L5-COM-Traj.dat\"\n",
    "\n",
    "l3_com_df = pd.read_csv(l3_com, sep=r\"\\s+\", header=None, names=[\"t\", \"x\", \"y\", \"px\", \"py\"])\n",
    "l3_com_df[\"r\"] = np.sqrt(l3_com_df[\"x\"] ** 2 + l3_com_df[\"y\"] ** 2)\n",
    "l3_com_df[\"pr\"] = np.sqrt(l3_com_df[\"px\"] ** 2 + l3_com_df[\"py\"] ** 2)\n",
    "\n",
    "l5_com_df = pd.read_csv(l5_com, sep=r\"\\s+\", header=None, names=[\"t\", \"x\", \"y\", \"px\", \"py\"])\n",
    "l5_com_df[\"r\"] = np.sqrt(l5_com_df[\"x\"] ** 2 + l5_com_df[\"y\"] ** 2)\n",
    "l5_com_df[\"pr\"] = np.sqrt(l5_com_df[\"px\"] ** 2 + l5_com_df[\"py\"] ** 2)"
   ],
   "id": "414362bb604df84e",
   "outputs": [],
   "execution_count": null
  },
  {
   "metadata": {},
   "cell_type": "code",
   "source": [
    "l3_traj = pd.concat(l3_paths[:50])\n",
    "l5_traj = pd.concat(l5_paths[:50])\n",
    "traj = pd.concat([l3_traj, l5_traj])\n",
    "l3_finals = [(path[\"px\"].to_numpy()[-1], path[\"py\"].to_numpy()[-1]) for path in l3_paths]\n",
    "l5_finals = [(path[\"px\"].to_numpy()[-1], path[\"py\"].to_numpy()[-1]) for path in l5_paths]\n"
   ],
   "id": "d88e2efde560bbf4",
   "outputs": [],
   "execution_count": null
  },
  {
   "metadata": {},
   "cell_type": "code",
   "source": [
    "f = go.Figure().update_layout(\n",
    "        width=600, height=400,\n",
    ")\n",
    "f.layout.template = 'seaborn+presentation'\n",
    "[\n",
    "    f.add_trace(\n",
    "            go.Scatter(\n",
    "                    x=path[\"t\"].to_numpy() * 0.02419, y=path[\"r\"].to_numpy(),\n",
    "                    mode=\"lines\", line=dict(width=1, color=\"blue\", ),\n",
    "                    name=f\"L3-{i}\",\n",
    "                    showlegend=False,\n",
    "                    opacity=0.4,\n",
    "            )) for i, path in enumerate(l3_paths)\n",
    "]\n",
    "[\n",
    "    f.add_trace(\n",
    "            go.Scatter(\n",
    "                    x=path[\"t\"].to_numpy() * 0.02419, y=path[\"r\"].to_numpy(),\n",
    "                    mode=\"lines\", line=dict(width=1, color=\"red\"),\n",
    "                    name=f\"L5-{i}\",\n",
    "                    showlegend=False,\n",
    "                    opacity=0.4,\n",
    "            )) for i, path in enumerate(l5_paths)\n",
    "]\n",
    "\n",
    "f.update_xaxes(\n",
    "        title_text=\"Time (fs)\",\n",
    "        minor_showgrid=True,\n",
    "        ticks=\"outside\",\n",
    "        ticklen=6,\n",
    ")\n",
    "f.show()"
   ],
   "id": "17b25db8c70157ee",
   "outputs": [],
   "execution_count": null
  },
  {
   "metadata": {
    "jupyter": {
     "is_executing": true
    }
   },
   "cell_type": "code",
   "source": "",
   "id": "cbbcaa2e67c5dc74",
   "outputs": [],
   "execution_count": null
  }
 ],
 "metadata": {
  "kernelspec": {
   "name": "python3",
   "language": "python",
   "display_name": "Python 3 (ipykernel)"
  }
 },
 "nbformat": 5,
 "nbformat_minor": 9
}
