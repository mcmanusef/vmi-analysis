{
 "cells": [
  {
   "cell_type": "code",
   "id": "initial_id",
   "metadata": {
    "collapsed": true
   },
   "source": [
    "import numpy as np\n",
    "import plotly.express as px\n",
    "import pandas as pd\n",
    "import os\n",
    "import scipy\n",
    "\n",
    "\n",
    "fname=r\"J:\\ctgroup\\Edward\\DATA\\VMI\\20250307\\Intensity Scan\"\n",
    "data=pd.DataFrame()\n",
    "for file in os.listdir(fname):\n",
    "    if file.endswith(\".h5\"):\n",
    "        file_df=pd.read_hdf(os.path.join(fname,file))\n",
    "        file_df['power']=float(file.split('_')[0].replace(',','.'))\n",
    "        data=pd.concat([data,file_df])\n",
    "data.head()"
   ],
   "outputs": [],
   "execution_count": null
  },
  {
   "metadata": {},
   "cell_type": "code",
   "source": [
    "data['pr'] = np.sqrt(data['px']**2+data['py']**2+data['pz']**2)\n",
    "data['theta'] = np.arccos(data['py']/data['pr'])\n",
    "data['phi'] = np.arctan2(data['px'],data['pz'])-np.radians(30)\n",
    "data.head()"
   ],
   "id": "c9a08797b148893f",
   "outputs": [],
   "execution_count": null
  },
  {
   "metadata": {},
   "cell_type": "code",
   "source": [
    "data_sample=data.groupby(['power']).sample(50000,replace=True)\n",
    "\n",
    "data_sample=data_sample[data_sample['m/q']<70]\n",
    "fig=px.density_heatmap(\n",
    "        data_sample, \n",
    "        x='power', \n",
    "        y='m/q', \n",
    "        nbinsy=400,\n",
    "        # marginal_x= 'histogram',\n",
    "        marginal_y= 'histogram',\n",
    "        height=800,\n",
    "        width=1200,\n",
    "        title='Ion Spectrum Intensity Dependence',\n",
    ")\n",
    "\n",
    "fig.add_hline(y=58, line_dash=\"dot\", line_color=\"red\", annotation_text=\"C2H6O+\", annotation_position=\"top right\")\n",
    "fig.add_hline(y=43, line_dash=\"dot\", line_color=\"red\", annotation_text=\"C2H3O+\", annotation_position=\"top right\")\n",
    "fig.add_hline(y=29, line_dash=\"dot\", line_color=\"red\", annotation_text=\"C2H6O++\", annotation_position=\"top right\")\n",
    "fig.add_hline(y=28, line_dash=\"dot\", line_color=\"red\", annotation_text=\"C2H4+\", annotation_position=\"top right\")\n",
    "fig.add_hline(y=15, line_dash=\"dot\", line_color=\"red\", annotation_text=\"CH3+\", annotation_position=\"top right\")\n",
    "fig.add_hline(y=1, line_dash=\"dot\", line_color=\"red\", annotation_text=\"H+\", annotation_position=\"top right\")\n",
    "\n",
    "\n",
    "fig.show()"
   ],
   "id": "2f9f8cd6d2410edb",
   "outputs": [],
   "execution_count": null
  },
  {
   "metadata": {},
   "cell_type": "code",
   "source": "",
   "id": "34a8974536fb2a9b",
   "outputs": [],
   "execution_count": null
  }
 ],
 "metadata": {
  "kernelspec": {
   "display_name": "Python 3",
   "language": "python",
   "name": "python3"
  },
  "language_info": {
   "codemirror_mode": {
    "name": "ipython",
    "version": 2
   },
   "file_extension": ".py",
   "mimetype": "text/x-python",
   "name": "python",
   "nbconvert_exporter": "python",
   "pygments_lexer": "ipython2",
   "version": "2.7.6"
  }
 },
 "nbformat": 4,
 "nbformat_minor": 5
}
