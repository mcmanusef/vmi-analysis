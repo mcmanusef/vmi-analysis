{
 "cells": [
  {
   "cell_type": "code",
   "id": "initial_id",
   "metadata": {
    "collapsed": true,
    "ExecuteTime": {
     "end_time": "2025-03-18T18:42:56.276167Z",
     "start_time": "2025-03-18T18:42:50.656469Z"
    }
   },
   "source": [
    "\n",
    "import coincidence_v4\n",
    "import os\n",
    "import numpy as np\n",
    "import pandas as pd\n",
    "\n",
    "from calibrations import calibration_20250303, itof_calibration\n",
    "\n",
    "\n",
    "def process_file(file, save_path, calibration=calibration_20250303, symmetrize=False, itof_calibration=itof_calibration):\n",
    "    x,y,t,etof,itof= coincidence_v4.load_file(file)\n",
    "    etof += 0.26*np.random.random_sample(len(etof))\n",
    "    px, py, pz= calibration(x,y,etof,symmetrize=symmetrize)\n",
    "    data = pd.DataFrame({'px':px, 'py':py, 'pz':pz, 'm/q':itof_calibration(itof)})\n",
    "    data.to_hdf(save_path, key='data', mode='w')\n",
    "    \n",
    "def process_folder(folder, save_folder=None, calibration=calibration_20250303, symmetrize=False, itof_calibration=itof_calibration):\n",
    "    if save_folder is None:\n",
    "        save_folder = os.path.join(folder, 'calibrated')\n",
    "    if not os.path.exists(save_folder):\n",
    "        os.makedirs(save_folder)\n",
    "    for file in os.listdir(folder):\n",
    "        if file.endswith('.cv4'):\n",
    "            print(f'Processing {file}')\n",
    "            save_path = os.path.join(save_folder, file.replace('.cv4', '_calibrated.h5'))\n",
    "            process_file(os.path.join(folder, file), save_path, calibration, symmetrize, itof_calibration)\n",
    "            print(f'Saved to {save_path}')    "
   ],
   "outputs": [],
   "execution_count": 2
  },
  {
   "metadata": {
    "ExecuteTime": {
     "end_time": "2025-03-18T19:35:40.654796Z",
     "start_time": "2025-03-18T19:35:08.857219Z"
    }
   },
   "cell_type": "code",
   "source": [
    "fname=r\"J:\\ctgroup\\Edward\\DATA\\VMI\\20250303\\Propylene Oxide 2W\\0.cv4\"\n",
    "process_file(fname, fname.replace('.cv4', '_calibrated.h5'))\n",
    "\n",
    "# if not os.path.exists(os.path.join(fname, \"Intensity Scan\")):\n",
    "#     os.makedirs(os.path.join(fname, \"Intensity Scan\"))\n",
    "# for f in os.listdir(fname):\n",
    "#     if f.endswith('30deg'):\n",
    "#         process_file(os.path.join(fname, f, \"30.cv4\"), os.path.join(fname, \"Intensity Scan\", f.split('w')[0].strip('po')+ '_calibrated.h5'))"
   ],
   "id": "679972d45a3de6f1",
   "outputs": [
    {
     "name": "stdout",
     "output_type": "stream",
     "text": [
      "Loading J:\\ctgroup\\Edward\\DATA\\VMI\\20250303\\Propylene Oxide 2W\\0.mat\n"
     ]
    },
    {
     "name": "stderr",
     "output_type": "stream",
     "text": [
      "C:\\Users\\mcman\\DataspellProjects\\vmi-analysis\\vmi_analysis\\calibrations.py:84: RuntimeWarning: invalid value encountered in sqrt\n",
      "  -np.polyval([1.0067789324603167, 129.95544764952695, 0, 0],-t)**0.5,\n",
      "C:\\Users\\mcman\\anaconda3\\envs\\vmi-analysis\\lib\\site-packages\\numpy\\lib\\polynomial.py:780: RuntimeWarning: overflow encountered in multiply\n",
      "  y = y * x + pv\n"
     ]
    }
   ],
   "execution_count": 6
  },
  {
   "metadata": {},
   "cell_type": "code",
   "outputs": [],
   "execution_count": null,
   "source": "",
   "id": "cb893b4cf415eceb"
  }
 ],
 "metadata": {
  "kernelspec": {
   "display_name": "Python 3",
   "language": "python",
   "name": "python3"
  },
  "language_info": {
   "codemirror_mode": {
    "name": "ipython",
    "version": 2
   },
   "file_extension": ".py",
   "mimetype": "text/x-python",
   "name": "python",
   "nbconvert_exporter": "python",
   "pygments_lexer": "ipython2",
   "version": "2.7.6"
  }
 },
 "nbformat": 4,
 "nbformat_minor": 5
}
