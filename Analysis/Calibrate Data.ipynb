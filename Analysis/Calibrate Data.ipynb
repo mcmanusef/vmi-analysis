{
 "cells": [
  {
   "cell_type": "code",
   "id": "initial_id",
   "metadata": {
    "collapsed": true,
    "jupyter": {
     "outputs_hidden": true
    }
   },
   "source": [
    "import os\n",
    "\n",
    "import numpy as np\n",
    "import pandas as pd\n",
    "\n",
    "import coincidence_v4\n",
    "from calibrations import calibration_20250303, itof_calibration\n",
    "\n",
    "\n",
    "def process_file(file, save_path, calibration=calibration_20250303, symmetrize=False, itof_calibration=itof_calibration,\n",
    "                 center=None, angle=None, ignore_itof=False):\n",
    "    x, y, t, etof, itof = coincidence_v4.load_file(file) if not ignore_itof else coincidence_v4.load_file(file,\n",
    "                                                                                                          coincidence=False)\n",
    "    etof += 0.26 * np.random.random_sample(len(etof))\n",
    "    match center, angle:\n",
    "        case None, None:\n",
    "            px, py, pz = calibration(x, y, etof, symmetrize=symmetrize)\n",
    "        case (None, _):\n",
    "            px, py, pz = calibration(x, y, etof, symmetrize=symmetrize, angle=angle)\n",
    "        case (_, None):\n",
    "            px, py, pz = calibration(x, y, etof, symmetrize=symmetrize, center=center)\n",
    "        case _:\n",
    "            px, py, pz = calibration(x, y, etof, symmetrize=symmetrize, center=center, angle=angle)\n",
    "\n",
    "    if not ignore_itof:\n",
    "        data = pd.DataFrame(\n",
    "                {'px': px, 'py': py, 'pz': pz, 'm/q': itof_calibration(itof), 'raw_x': x, 'raw_y': y, 'raw_t': t,\n",
    "                 'raw_etof': etof, 'raw_itof': itof})\n",
    "    else:\n",
    "        data = pd.DataFrame({'px': px, 'py': py, 'pz': pz, 'raw_x': x, 'raw_y': y, 'raw_t': t, 'raw_etof': etof})\n",
    "    data.to_hdf(save_path, key='data', mode='w')\n",
    "\n",
    "\n",
    "def process_folder(folder, save_folder=None, calibration=calibration_20250303, symmetrize=False,\n",
    "                   itof_calibration=itof_calibration, center=None, angle=None, ignore_itof=False):\n",
    "    if save_folder is None:\n",
    "        save_folder = os.path.join(folder, 'calibrated')\n",
    "    if not os.path.exists(save_folder):\n",
    "        os.makedirs(save_folder)\n",
    "    for file in os.listdir(folder):\n",
    "        if file.endswith('.cv4'):\n",
    "            print(f'Processing {file}')\n",
    "            save_path = os.path.join(save_folder, file.replace('.cv4', '_calibrated.h5'))\n",
    "            process_file(os.path.join(folder, file), save_path, calibration, symmetrize, itof_calibration, center,\n",
    "                         angle, ignore_itof)\n",
    "            print(f'Saved to {save_path}')"
   ],
   "outputs": [],
   "execution_count": null
  },
  {
   "cell_type": "code",
   "id": "679972d45a3de6f1",
   "metadata": {},
   "source": [
    "from calibrations import calibration_xe_800\n",
    "\n",
    "fname = r\"J:\\ctgroup\\Edward\\DATA\\VMI\\20220613\\xe005_e.cv4\"\n",
    "# process_file(fname, fname.replace('.cv4', '_calibrated.h5'))\n",
    "\n",
    "process_file(fname, save_path=fname.replace(\".cv4\", \"_calibrated.h5\"), calibration=calibration_xe_800, symmetrize=False,\n",
    "             ignore_itof=True)"
   ],
   "outputs": [],
   "execution_count": null
  },
  {
   "cell_type": "code",
   "id": "cb893b4cf415eceb",
   "metadata": {},
   "source": [],
   "outputs": [],
   "execution_count": null
  }
 ],
 "metadata": {
  "kernelspec": {
   "display_name": "Python 3 (ipykernel)",
   "language": "python",
   "name": "python3"
  },
  "language_info": {
   "codemirror_mode": {
    "name": "ipython",
    "version": 3
   },
   "file_extension": ".py",
   "mimetype": "text/x-python",
   "name": "python",
   "nbconvert_exporter": "python",
   "pygments_lexer": "ipython3",
   "version": "3.13.2"
  }
 },
 "nbformat": 4,
 "nbformat_minor": 5
}
