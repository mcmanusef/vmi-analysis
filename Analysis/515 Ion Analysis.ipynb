{
 "cells": [
  {
   "cell_type": "code",
   "id": "initial_id",
   "metadata": {},
   "source": [
    "import os\n",
    "\n",
    "import numpy as np\n",
    "import pandas as pd\n",
    "import plotly.express as px\n",
    "\n",
    "file = r\"J:\\ctgroup\\Edward\\DATA\\VMI\\20250408\\calibrated\\po_400mW_lin_calibrated.h5\"\n",
    "df = pd.read_hdf(file, key='data')\n",
    "\n",
    "df.head()"
   ],
   "outputs": [],
   "execution_count": null
  },
  {
   "cell_type": "code",
   "id": "b57be59477e1534f",
   "metadata": {},
   "source": [
    "p_max = 0.6\n",
    "df_filtered = df.query(\n",
    "        f'(px > -{p_max}) & (px < {p_max}) & (py > -{p_max}) & (py < {p_max}) & (pz > -{p_max}) & (pz < {p_max})')\n",
    "df_filtered = df_filtered[(df_filtered['m/q'] > 0) & (df_filtered['m/q'] < 100)]\n",
    "gate_names = ('C2H4', 'C2H3O', 'Parent')\n",
    "gates = ((20, 25.5), (25, 28), (28, 33))\n",
    "\n",
    "\n",
    "def gate(mq):\n",
    "    for gate_name, (low, high) in zip(gate_names, gates):\n",
    "        if low <= mq <= high:\n",
    "            return gate_name\n",
    "    return \"Other\"\n",
    "\n",
    "\n",
    "df_filtered['gate'] = df_filtered['m/q'].apply(gate)\n",
    "df_filtered.sort_values(by=['m/q'], ascending=False, inplace=True)\n",
    "\n"
   ],
   "outputs": [],
   "execution_count": null
  },
  {
   "cell_type": "code",
   "id": "f28e064bfc4814e1",
   "metadata": {},
   "source": [
    "f1 = px.histogram(df_filtered, x='m/q', color='gate', width=900, height=300, title=os.path.split(file)[-1])\n",
    "f2 = px.density_heatmap(\n",
    "        df_filtered.query('(pz > -.1) & (pz < .1)').query('gate != \"Other\"'),\n",
    "        x='px',\n",
    "        y='py',\n",
    "        height=350,\n",
    "        width=900,\n",
    "        nbinsy=128,\n",
    "        nbinsx=128,\n",
    "        facet_col='gate',\n",
    "        histnorm='probability density',\n",
    "        title='VMI Plane',\n",
    "        color_continuous_scale='Inferno',\n",
    ")\n",
    "f3 = px.density_heatmap(\n",
    "        df_filtered.query('(py > -.1) & (py < .1)').query('gate != \"Other\"'),\n",
    "        x='px',\n",
    "        y='pz',\n",
    "        height=350,\n",
    "        width=900,\n",
    "        nbinsy=128,\n",
    "        nbinsx=128,\n",
    "        facet_col='gate',\n",
    "        histnorm='probability density',\n",
    "        title='Polarization Plane',\n",
    "        color_continuous_scale='Inferno',\n",
    ")\n",
    "f1.show()\n",
    "f2.show()\n",
    "f3.show()"
   ],
   "outputs": [],
   "execution_count": null
  },
  {
   "metadata": {},
   "cell_type": "markdown",
   "source": [
    "import skimage.io\n",
    "import io\n",
    "\n",
    "img1= f1.to_image(format=\"png\", width=900, height=300, engine='orca')\n",
    "img2= f2.to_image(format=\"png\", width=900, height=350, engine='orca')\n",
    "img3= f3.to_image(format=\"png\", width=900, height=350, engine='orca')\n",
    "\n",
    "img1 = skimage.io.imread(io.BytesIO(img1))\n",
    "img2 = skimage.io.imread(io.BytesIO(img2))\n",
    "img3 = skimage.io.imread(io.BytesIO(img3))\n",
    "\n",
    "if not (img1.shape[1] == img2.shape[1] == img3.shape[1]):\n",
    "    raise ValueError(\"To vertically stack, all images must have the same width.\")\n",
    "vertically_stacked = np.vstack((img1, img2, img3))\n",
    "\n",
    "skimage.io.imsave(file.replace('_calibrated.h5', '_fragments.png'), vertically_stacked)\n",
    "\n",
    "\n"
   ],
   "id": "883ae0726e9ddb4e"
  },
  {
   "cell_type": "code",
   "id": "a0a1dc7a-72ca-4825-a3e4-054831938c9f",
   "metadata": {},
   "source": [
    "df_filtered['pr'] = np.sqrt(df_filtered['px'] ** 2 + df_filtered['py'] ** 2 + df_filtered['pz'] ** 2)\n",
    "\n",
    "# px.density_heatmap(df_filtered[df_filtered['pr'] < 0.45],\n",
    "#                    y='pr', x='m/q', height=900, width=900, nbinsy=256, marginal_y='histogram', marginal_x='histogram',\n",
    "#                    nbinsx=256, title='m/q vs pr', range_x=(0, 65), range_y=(0, 0.45), range_color=(0,80),).show()\n",
    "hist, xe, ye = np.histogram2d(\n",
    "        df_filtered['m/q'], df_filtered['pr'], bins=(256, 256), range=((0, 65), (0, 0.5))\n",
    ")\n",
    "xe, ye = (xe[:-1] + xe[1:]) / 2, (ye[:-1] + ye[1:]) / 2\n",
    "\n",
    "import skimage\n",
    "\n",
    "image = skimage.filters.median(hist.T, skimage.morphology.disk(5))\n",
    "px.imshow(np.log(image), x=xe, y=ye, aspect='auto', origin='lower',\n",
    "          color_continuous_scale='Inferno', title=f'm/q vs pr (log scale), {os.path.split(file)[-1]}',\n",
    "          height=900, width=900,\n",
    "          labels={'x': 'm/q', 'y': 'pr'},\n",
    "\n",
    "          ).show()\n",
    "\n"
   ],
   "outputs": [],
   "execution_count": null
  },
  {
   "metadata": {},
   "cell_type": "code",
   "source": "",
   "id": "8f2efe4979b2a6aa",
   "outputs": [],
   "execution_count": null
  }
 ],
 "metadata": {
  "kernelspec": {
   "display_name": "Python 3 (ipykernel)",
   "language": "python",
   "name": "python3"
  },
  "language_info": {
   "codemirror_mode": {
    "name": "ipython",
    "version": 3
   },
   "file_extension": ".py",
   "mimetype": "text/x-python",
   "name": "python",
   "nbconvert_exporter": "python",
   "pygments_lexer": "ipython3",
   "version": "3.13.2"
  }
 },
 "nbformat": 4,
 "nbformat_minor": 5
}
