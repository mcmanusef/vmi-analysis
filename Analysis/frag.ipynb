{
 "cells": [
  {
   "cell_type": "code",
   "id": "initial_id",
   "metadata": {
    "collapsed": true
   },
   "source": [
    "import numpy as np\n",
    "import pandas as pd\n",
    "import os\n",
    "import plotly.express as px\n",
    "import scipy\n",
    "import skimage\n",
    "\n",
    "file=r\"J:\\ctgroup\\Edward\\DATA\\VMI\\20250303\\Propylene Oxide 2W\\calibrated\\0_calibrated.h5\"\n",
    "df=pd.read_hdf(file)"
   ],
   "outputs": [],
   "execution_count": null
  },
  {
   "metadata": {},
   "cell_type": "code",
   "source": [
    "df['pr']=np.sqrt(df['px']**2+df['py']**2+df['pz']**2)\n",
    "df=df.loc[df['m/q']>0].loc[df['m/q']<70].loc[df['pr']<0.6]\n",
    "f=px.histogram(df,x='m/q',nbins=1000)\n",
    "ranges=[28,30,58,60]\n",
    "[f.add_vline(x=r) for r in ranges]\n",
    "f.show()\n",
    "df['frag']=pd.cut(df['m/q'],ranges)"
   ],
   "id": "5c7c20f357320764",
   "outputs": [],
   "execution_count": null
  },
  {
   "metadata": {},
   "cell_type": "code",
   "source": [
    "px.density_heatmap(\n",
    "        df.dropna(),\n",
    "        x='px',\n",
    "        y='pz',\n",
    "        facet_col='frag',\n",
    "        facet_col_wrap=2,\n",
    "        nbinsx=256,\n",
    "        nbinsy=256,\n",
    "        histnorm='probability',\n",
    "        height=1200,\n",
    "        width=1200,\n",
    ").show()"
   ],
   "id": "8e1b28be912ffbd4",
   "outputs": [],
   "execution_count": null
  }
 ],
 "metadata": {
  "kernelspec": {
   "display_name": "Python 3",
   "language": "python",
   "name": "python3"
  },
  "language_info": {
   "codemirror_mode": {
    "name": "ipython",
    "version": 2
   },
   "file_extension": ".py",
   "mimetype": "text/x-python",
   "name": "python",
   "nbconvert_exporter": "python",
   "pygments_lexer": "ipython2",
   "version": "2.7.6"
  }
 },
 "nbformat": 4,
 "nbformat_minor": 5
}
