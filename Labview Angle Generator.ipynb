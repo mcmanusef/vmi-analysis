{
 "cells": [
  {
   "cell_type": "code",
   "execution_count": 21,
   "id": "initial_id",
   "metadata": {
    "collapsed": true,
    "ExecuteTime": {
     "end_time": "2025-02-27T16:32:50.212330800Z",
     "start_time": "2025-02-27T16:32:49.584784700Z"
    }
   },
   "outputs": [
    {
     "name": "stdout",
     "output_type": "stream",
     "text": [
      "33\n"
     ]
    },
    {
     "data": {
      "text/plain": "     Angle  Ellipticity  Peak Intensity  Min Intensity Handedness        Ex  \\\n0  -58.711     0.607747        0.730270       0.269730       Left  0.519355   \n1  -54.431     0.715112        0.661645       0.338355       Left  0.581683   \n2  -51.580     0.793159        0.613836       0.386164       Left  0.621421   \n3  -49.210     0.862872        0.573214       0.426786       Left  0.653288   \n4  -47.060     0.930559        0.535923       0.464077       Left  0.681232   \n5  -45.000     1.000000        0.500000       0.500000       Left  0.707107   \n6  -42.940     0.930559        0.535923       0.464077       Left  0.732067   \n7  -40.790     0.862872        0.573214       0.426786       Left  0.757109   \n8  -38.420     0.793159        0.613836       0.386164       Left  0.783477   \n9  -35.569     0.715112        0.661645       0.338355       Left  0.813416   \n10 -31.289     0.607747        0.730270       0.269730       Left  0.854559   \n11 -13.711     0.243977        0.943819       0.056181       Left  0.971504   \n12  -9.431     0.166105        0.973150       0.026850       Left  0.986484   \n13  -6.580     0.115350        0.986869       0.013131       Left  0.993413   \n14  -4.210     0.073611        0.994611       0.005389       Left  0.997302   \n15  -2.060     0.035969        0.998708       0.001292       Left  0.999354   \n16  -0.000     0.000000        1.000000       0.000000     Linear  1.000000   \n17   2.060     0.035969        0.998708       0.001292      Right  0.999354   \n18   4.210     0.073611        0.994611       0.005389      Right  0.997302   \n19   6.580     0.115350        0.986869       0.013131      Right  0.993413   \n20   9.431     0.166105        0.973150       0.026850      Right  0.986484   \n21  13.711     0.243977        0.943819       0.056181      Right  0.971504   \n22  31.289     0.607747        0.730270       0.269730      Right  0.854559   \n23  35.569     0.715112        0.661645       0.338355      Right  0.813416   \n24  38.420     0.793159        0.613836       0.386164      Right  0.783477   \n25  40.790     0.862872        0.573214       0.426786      Right  0.757109   \n26  42.940     0.930559        0.535923       0.464077      Right  0.732067   \n27  45.000     1.000000        0.500000       0.500000      Right  0.707107   \n28  47.060     0.930559        0.535923       0.464077      Right  0.681232   \n29  49.210     0.862872        0.573214       0.426786      Right  0.653288   \n30  51.580     0.793159        0.613836       0.386164      Right  0.621421   \n31  54.431     0.715112        0.661645       0.338355      Right  0.581683   \n32  58.711     0.607747        0.730270       0.269730      Right  0.519355   \n\n          Ey  Local Density  \n0  -0.854559       2.652408  \n1  -0.813416       5.005034  \n2  -0.783477       6.427284  \n3  -0.757109       7.328591  \n4  -0.732067       7.835675  \n5  -0.707107       8.000000  \n6  -0.681232       7.835675  \n7  -0.653288       7.328591  \n8  -0.621421       6.427284  \n9  -0.581683       5.005034  \n10 -0.519355       2.652408  \n11 -0.237025       2.652408  \n12 -0.163860       5.005034  \n13 -0.114590       6.427284  \n14 -0.073412       7.328591  \n15 -0.035946       7.835675  \n16 -0.000000       8.000000  \n17  0.035946       7.835675  \n18  0.073412       7.328591  \n19  0.114590       6.427284  \n20  0.163860       5.005034  \n21  0.237025       2.652408  \n22  0.519355       2.652408  \n23  0.581683       5.005034  \n24  0.621421       6.427284  \n25  0.653288       7.328591  \n26  0.681232       7.835675  \n27  0.707107       8.000000  \n28  0.732067       7.835675  \n29  0.757109       7.328591  \n30  0.783477       6.427284  \n31  0.813416       5.005034  \n32  0.854559       2.652408  ",
      "text/html": "<div>\n<style scoped>\n    .dataframe tbody tr th:only-of-type {\n        vertical-align: middle;\n    }\n\n    .dataframe tbody tr th {\n        vertical-align: top;\n    }\n\n    .dataframe thead th {\n        text-align: right;\n    }\n</style>\n<table border=\"1\" class=\"dataframe\">\n  <thead>\n    <tr style=\"text-align: right;\">\n      <th></th>\n      <th>Angle</th>\n      <th>Ellipticity</th>\n      <th>Peak Intensity</th>\n      <th>Min Intensity</th>\n      <th>Handedness</th>\n      <th>Ex</th>\n      <th>Ey</th>\n      <th>Local Density</th>\n    </tr>\n  </thead>\n  <tbody>\n    <tr>\n      <th>0</th>\n      <td>-58.711</td>\n      <td>0.607747</td>\n      <td>0.730270</td>\n      <td>0.269730</td>\n      <td>Left</td>\n      <td>0.519355</td>\n      <td>-0.854559</td>\n      <td>2.652408</td>\n    </tr>\n    <tr>\n      <th>1</th>\n      <td>-54.431</td>\n      <td>0.715112</td>\n      <td>0.661645</td>\n      <td>0.338355</td>\n      <td>Left</td>\n      <td>0.581683</td>\n      <td>-0.813416</td>\n      <td>5.005034</td>\n    </tr>\n    <tr>\n      <th>2</th>\n      <td>-51.580</td>\n      <td>0.793159</td>\n      <td>0.613836</td>\n      <td>0.386164</td>\n      <td>Left</td>\n      <td>0.621421</td>\n      <td>-0.783477</td>\n      <td>6.427284</td>\n    </tr>\n    <tr>\n      <th>3</th>\n      <td>-49.210</td>\n      <td>0.862872</td>\n      <td>0.573214</td>\n      <td>0.426786</td>\n      <td>Left</td>\n      <td>0.653288</td>\n      <td>-0.757109</td>\n      <td>7.328591</td>\n    </tr>\n    <tr>\n      <th>4</th>\n      <td>-47.060</td>\n      <td>0.930559</td>\n      <td>0.535923</td>\n      <td>0.464077</td>\n      <td>Left</td>\n      <td>0.681232</td>\n      <td>-0.732067</td>\n      <td>7.835675</td>\n    </tr>\n    <tr>\n      <th>5</th>\n      <td>-45.000</td>\n      <td>1.000000</td>\n      <td>0.500000</td>\n      <td>0.500000</td>\n      <td>Left</td>\n      <td>0.707107</td>\n      <td>-0.707107</td>\n      <td>8.000000</td>\n    </tr>\n    <tr>\n      <th>6</th>\n      <td>-42.940</td>\n      <td>0.930559</td>\n      <td>0.535923</td>\n      <td>0.464077</td>\n      <td>Left</td>\n      <td>0.732067</td>\n      <td>-0.681232</td>\n      <td>7.835675</td>\n    </tr>\n    <tr>\n      <th>7</th>\n      <td>-40.790</td>\n      <td>0.862872</td>\n      <td>0.573214</td>\n      <td>0.426786</td>\n      <td>Left</td>\n      <td>0.757109</td>\n      <td>-0.653288</td>\n      <td>7.328591</td>\n    </tr>\n    <tr>\n      <th>8</th>\n      <td>-38.420</td>\n      <td>0.793159</td>\n      <td>0.613836</td>\n      <td>0.386164</td>\n      <td>Left</td>\n      <td>0.783477</td>\n      <td>-0.621421</td>\n      <td>6.427284</td>\n    </tr>\n    <tr>\n      <th>9</th>\n      <td>-35.569</td>\n      <td>0.715112</td>\n      <td>0.661645</td>\n      <td>0.338355</td>\n      <td>Left</td>\n      <td>0.813416</td>\n      <td>-0.581683</td>\n      <td>5.005034</td>\n    </tr>\n    <tr>\n      <th>10</th>\n      <td>-31.289</td>\n      <td>0.607747</td>\n      <td>0.730270</td>\n      <td>0.269730</td>\n      <td>Left</td>\n      <td>0.854559</td>\n      <td>-0.519355</td>\n      <td>2.652408</td>\n    </tr>\n    <tr>\n      <th>11</th>\n      <td>-13.711</td>\n      <td>0.243977</td>\n      <td>0.943819</td>\n      <td>0.056181</td>\n      <td>Left</td>\n      <td>0.971504</td>\n      <td>-0.237025</td>\n      <td>2.652408</td>\n    </tr>\n    <tr>\n      <th>12</th>\n      <td>-9.431</td>\n      <td>0.166105</td>\n      <td>0.973150</td>\n      <td>0.026850</td>\n      <td>Left</td>\n      <td>0.986484</td>\n      <td>-0.163860</td>\n      <td>5.005034</td>\n    </tr>\n    <tr>\n      <th>13</th>\n      <td>-6.580</td>\n      <td>0.115350</td>\n      <td>0.986869</td>\n      <td>0.013131</td>\n      <td>Left</td>\n      <td>0.993413</td>\n      <td>-0.114590</td>\n      <td>6.427284</td>\n    </tr>\n    <tr>\n      <th>14</th>\n      <td>-4.210</td>\n      <td>0.073611</td>\n      <td>0.994611</td>\n      <td>0.005389</td>\n      <td>Left</td>\n      <td>0.997302</td>\n      <td>-0.073412</td>\n      <td>7.328591</td>\n    </tr>\n    <tr>\n      <th>15</th>\n      <td>-2.060</td>\n      <td>0.035969</td>\n      <td>0.998708</td>\n      <td>0.001292</td>\n      <td>Left</td>\n      <td>0.999354</td>\n      <td>-0.035946</td>\n      <td>7.835675</td>\n    </tr>\n    <tr>\n      <th>16</th>\n      <td>-0.000</td>\n      <td>0.000000</td>\n      <td>1.000000</td>\n      <td>0.000000</td>\n      <td>Linear</td>\n      <td>1.000000</td>\n      <td>-0.000000</td>\n      <td>8.000000</td>\n    </tr>\n    <tr>\n      <th>17</th>\n      <td>2.060</td>\n      <td>0.035969</td>\n      <td>0.998708</td>\n      <td>0.001292</td>\n      <td>Right</td>\n      <td>0.999354</td>\n      <td>0.035946</td>\n      <td>7.835675</td>\n    </tr>\n    <tr>\n      <th>18</th>\n      <td>4.210</td>\n      <td>0.073611</td>\n      <td>0.994611</td>\n      <td>0.005389</td>\n      <td>Right</td>\n      <td>0.997302</td>\n      <td>0.073412</td>\n      <td>7.328591</td>\n    </tr>\n    <tr>\n      <th>19</th>\n      <td>6.580</td>\n      <td>0.115350</td>\n      <td>0.986869</td>\n      <td>0.013131</td>\n      <td>Right</td>\n      <td>0.993413</td>\n      <td>0.114590</td>\n      <td>6.427284</td>\n    </tr>\n    <tr>\n      <th>20</th>\n      <td>9.431</td>\n      <td>0.166105</td>\n      <td>0.973150</td>\n      <td>0.026850</td>\n      <td>Right</td>\n      <td>0.986484</td>\n      <td>0.163860</td>\n      <td>5.005034</td>\n    </tr>\n    <tr>\n      <th>21</th>\n      <td>13.711</td>\n      <td>0.243977</td>\n      <td>0.943819</td>\n      <td>0.056181</td>\n      <td>Right</td>\n      <td>0.971504</td>\n      <td>0.237025</td>\n      <td>2.652408</td>\n    </tr>\n    <tr>\n      <th>22</th>\n      <td>31.289</td>\n      <td>0.607747</td>\n      <td>0.730270</td>\n      <td>0.269730</td>\n      <td>Right</td>\n      <td>0.854559</td>\n      <td>0.519355</td>\n      <td>2.652408</td>\n    </tr>\n    <tr>\n      <th>23</th>\n      <td>35.569</td>\n      <td>0.715112</td>\n      <td>0.661645</td>\n      <td>0.338355</td>\n      <td>Right</td>\n      <td>0.813416</td>\n      <td>0.581683</td>\n      <td>5.005034</td>\n    </tr>\n    <tr>\n      <th>24</th>\n      <td>38.420</td>\n      <td>0.793159</td>\n      <td>0.613836</td>\n      <td>0.386164</td>\n      <td>Right</td>\n      <td>0.783477</td>\n      <td>0.621421</td>\n      <td>6.427284</td>\n    </tr>\n    <tr>\n      <th>25</th>\n      <td>40.790</td>\n      <td>0.862872</td>\n      <td>0.573214</td>\n      <td>0.426786</td>\n      <td>Right</td>\n      <td>0.757109</td>\n      <td>0.653288</td>\n      <td>7.328591</td>\n    </tr>\n    <tr>\n      <th>26</th>\n      <td>42.940</td>\n      <td>0.930559</td>\n      <td>0.535923</td>\n      <td>0.464077</td>\n      <td>Right</td>\n      <td>0.732067</td>\n      <td>0.681232</td>\n      <td>7.835675</td>\n    </tr>\n    <tr>\n      <th>27</th>\n      <td>45.000</td>\n      <td>1.000000</td>\n      <td>0.500000</td>\n      <td>0.500000</td>\n      <td>Right</td>\n      <td>0.707107</td>\n      <td>0.707107</td>\n      <td>8.000000</td>\n    </tr>\n    <tr>\n      <th>28</th>\n      <td>47.060</td>\n      <td>0.930559</td>\n      <td>0.535923</td>\n      <td>0.464077</td>\n      <td>Right</td>\n      <td>0.681232</td>\n      <td>0.732067</td>\n      <td>7.835675</td>\n    </tr>\n    <tr>\n      <th>29</th>\n      <td>49.210</td>\n      <td>0.862872</td>\n      <td>0.573214</td>\n      <td>0.426786</td>\n      <td>Right</td>\n      <td>0.653288</td>\n      <td>0.757109</td>\n      <td>7.328591</td>\n    </tr>\n    <tr>\n      <th>30</th>\n      <td>51.580</td>\n      <td>0.793159</td>\n      <td>0.613836</td>\n      <td>0.386164</td>\n      <td>Right</td>\n      <td>0.621421</td>\n      <td>0.783477</td>\n      <td>6.427284</td>\n    </tr>\n    <tr>\n      <th>31</th>\n      <td>54.431</td>\n      <td>0.715112</td>\n      <td>0.661645</td>\n      <td>0.338355</td>\n      <td>Right</td>\n      <td>0.581683</td>\n      <td>0.813416</td>\n      <td>5.005034</td>\n    </tr>\n    <tr>\n      <th>32</th>\n      <td>58.711</td>\n      <td>0.607747</td>\n      <td>0.730270</td>\n      <td>0.269730</td>\n      <td>Right</td>\n      <td>0.519355</td>\n      <td>0.854559</td>\n      <td>2.652408</td>\n    </tr>\n  </tbody>\n</table>\n</div>"
     },
     "metadata": {},
     "output_type": "display_data"
    },
    {
     "data": {
      "application/vnd.plotly.v1+json": {
       "data": [
        {
         "hovertemplate": "Handedness=Left<br>Angle=%{x}<br>Ellipticity=%{y}<extra></extra>",
         "legendgroup": "Left",
         "marker": {
          "color": "#636efa",
          "symbol": "triangle-down"
         },
         "mode": "markers",
         "name": "Left",
         "orientation": "v",
         "showlegend": true,
         "x": [
          -58.711,
          -54.431,
          -51.58,
          -49.21,
          -47.06,
          -45.0,
          -42.94,
          -40.79,
          -38.42,
          -35.569,
          -31.289,
          -13.711,
          -9.431,
          -6.58,
          -4.21,
          -2.06
         ],
         "xaxis": "x",
         "y": [
          0.6077466020468354,
          0.7151116286848175,
          0.7931587395036791,
          0.8628723181856386,
          0.9305591712367686,
          1.0,
          0.9305591712367687,
          0.8628723181856385,
          0.7931587395036789,
          0.7151116286848174,
          0.6077466020468353,
          0.24397712764796625,
          0.1661048567046571,
          0.11535022301124985,
          0.07361088598273775,
          0.03596928278491744
         ],
         "yaxis": "y",
         "type": "scatter"
        },
        {
         "hovertemplate": "Handedness=Linear<br>Angle=%{x}<br>Ellipticity=%{y}<extra></extra>",
         "legendgroup": "Linear",
         "marker": {
          "color": "#636efa",
          "symbol": "circle"
         },
         "mode": "markers",
         "name": "Linear",
         "orientation": "v",
         "showlegend": true,
         "x": [
          -0.0
         ],
         "xaxis": "x",
         "y": [
          0.0
         ],
         "yaxis": "y",
         "type": "scatter"
        },
        {
         "hovertemplate": "Handedness=Right<br>Angle=%{x}<br>Ellipticity=%{y}<extra></extra>",
         "legendgroup": "Right",
         "marker": {
          "color": "#636efa",
          "symbol": "triangle-up"
         },
         "mode": "markers",
         "name": "Right",
         "orientation": "v",
         "showlegend": true,
         "x": [
          2.06,
          4.21,
          6.58,
          9.431,
          13.711,
          31.289,
          35.569,
          38.42,
          40.79,
          42.94,
          45.0,
          47.06,
          49.21,
          51.58,
          54.431,
          58.711
         ],
         "xaxis": "x",
         "y": [
          0.03596928278491744,
          0.07361088598273775,
          0.11535022301124985,
          0.1661048567046571,
          0.24397712764796625,
          0.6077466020468353,
          0.7151116286848174,
          0.7931587395036789,
          0.8628723181856385,
          0.9305591712367687,
          1.0,
          0.9305591712367686,
          0.8628723181856386,
          0.7931587395036791,
          0.7151116286848175,
          0.6077466020468354
         ],
         "yaxis": "y",
         "type": "scatter"
        },
        {
         "line": {
          "color": "red",
          "width": 1
         },
         "marker": {
          "color": "red",
          "size": 5,
          "symbol": "circle"
         },
         "mode": "lines+markers",
         "name": "$I_x$",
         "x": [
          -58.711,
          -54.431,
          -51.58,
          -49.21,
          -47.06,
          -45.0,
          -42.94,
          -40.79,
          -38.42,
          -35.569,
          -31.289,
          -13.711,
          -9.431,
          -6.58,
          -4.21,
          -2.06,
          -0.0,
          2.06,
          4.21,
          6.58,
          9.431,
          13.711,
          31.289,
          35.569,
          38.42,
          40.79,
          42.94,
          45.0,
          47.06,
          49.21,
          51.58,
          54.431,
          58.711
         ],
         "y": [
          0.2697296762568064,
          0.33835506028392703,
          0.3861644358885881,
          0.4267858295781531,
          0.4640771937575707,
          0.5000000000000001,
          0.5359228062424293,
          0.573214170421847,
          0.6138355641114119,
          0.661644939716073,
          0.7302703237431937,
          0.9438193078305683,
          0.9731499904514287,
          0.9868690422931373,
          0.9946106400487568,
          0.9987078824238382,
          1.0,
          0.9987078824238382,
          0.9946106400487568,
          0.9868690422931373,
          0.9731499904514287,
          0.9438193078305683,
          0.7302703237431937,
          0.661644939716073,
          0.6138355641114119,
          0.573214170421847,
          0.5359228062424293,
          0.5000000000000001,
          0.4640771937575707,
          0.4267858295781531,
          0.3861644358885881,
          0.33835506028392703,
          0.2697296762568064
         ],
         "type": "scatter"
        },
        {
         "line": {
          "color": "green",
          "width": 1
         },
         "marker": {
          "color": "green",
          "size": 5,
          "symbol": "circle"
         },
         "mode": "lines+markers",
         "name": "$I_y$",
         "x": [
          -58.711,
          -54.431,
          -51.58,
          -49.21,
          -47.06,
          -45.0,
          -42.94,
          -40.79,
          -38.42,
          -35.569,
          -31.289,
          -13.711,
          -9.431,
          -6.58,
          -4.21,
          -2.06,
          -0.0,
          2.06,
          4.21,
          6.58,
          9.431,
          13.711,
          31.289,
          35.569,
          38.42,
          40.79,
          42.94,
          45.0,
          47.06,
          49.21,
          51.58,
          54.431,
          58.711
         ],
         "y": [
          0.7302703237431937,
          0.6616449397160729,
          0.6138355641114118,
          0.5732141704218467,
          0.5359228062424293,
          0.5000000000000001,
          0.4640771937575709,
          0.4267858295781531,
          0.386164435888588,
          0.33835506028392703,
          0.26972967625680627,
          0.05618069216943168,
          0.026850009548571238,
          0.013130957706862798,
          0.005389359951243301,
          0.0012921175761617305,
          0.0,
          0.0012921175761617305,
          0.005389359951243301,
          0.013130957706862798,
          0.026850009548571238,
          0.05618069216943168,
          0.26972967625680627,
          0.33835506028392703,
          0.386164435888588,
          0.4267858295781531,
          0.4640771937575709,
          0.5000000000000001,
          0.5359228062424293,
          0.5732141704218467,
          0.6138355641114118,
          0.6616449397160729,
          0.7302703237431937
         ],
         "type": "scatter"
        }
       ],
       "layout": {
        "template": {
         "data": {
          "histogram2dcontour": [
           {
            "type": "histogram2dcontour",
            "colorbar": {
             "outlinewidth": 0,
             "ticks": ""
            },
            "colorscale": [
             [
              0.0,
              "#0d0887"
             ],
             [
              0.1111111111111111,
              "#46039f"
             ],
             [
              0.2222222222222222,
              "#7201a8"
             ],
             [
              0.3333333333333333,
              "#9c179e"
             ],
             [
              0.4444444444444444,
              "#bd3786"
             ],
             [
              0.5555555555555556,
              "#d8576b"
             ],
             [
              0.6666666666666666,
              "#ed7953"
             ],
             [
              0.7777777777777778,
              "#fb9f3a"
             ],
             [
              0.8888888888888888,
              "#fdca26"
             ],
             [
              1.0,
              "#f0f921"
             ]
            ]
           }
          ],
          "choropleth": [
           {
            "type": "choropleth",
            "colorbar": {
             "outlinewidth": 0,
             "ticks": ""
            }
           }
          ],
          "histogram2d": [
           {
            "type": "histogram2d",
            "colorbar": {
             "outlinewidth": 0,
             "ticks": ""
            },
            "colorscale": [
             [
              0.0,
              "#0d0887"
             ],
             [
              0.1111111111111111,
              "#46039f"
             ],
             [
              0.2222222222222222,
              "#7201a8"
             ],
             [
              0.3333333333333333,
              "#9c179e"
             ],
             [
              0.4444444444444444,
              "#bd3786"
             ],
             [
              0.5555555555555556,
              "#d8576b"
             ],
             [
              0.6666666666666666,
              "#ed7953"
             ],
             [
              0.7777777777777778,
              "#fb9f3a"
             ],
             [
              0.8888888888888888,
              "#fdca26"
             ],
             [
              1.0,
              "#f0f921"
             ]
            ]
           }
          ],
          "heatmap": [
           {
            "type": "heatmap",
            "colorbar": {
             "outlinewidth": 0,
             "ticks": ""
            },
            "colorscale": [
             [
              0.0,
              "#0d0887"
             ],
             [
              0.1111111111111111,
              "#46039f"
             ],
             [
              0.2222222222222222,
              "#7201a8"
             ],
             [
              0.3333333333333333,
              "#9c179e"
             ],
             [
              0.4444444444444444,
              "#bd3786"
             ],
             [
              0.5555555555555556,
              "#d8576b"
             ],
             [
              0.6666666666666666,
              "#ed7953"
             ],
             [
              0.7777777777777778,
              "#fb9f3a"
             ],
             [
              0.8888888888888888,
              "#fdca26"
             ],
             [
              1.0,
              "#f0f921"
             ]
            ]
           }
          ],
          "heatmapgl": [
           {
            "type": "heatmapgl",
            "colorbar": {
             "outlinewidth": 0,
             "ticks": ""
            },
            "colorscale": [
             [
              0.0,
              "#0d0887"
             ],
             [
              0.1111111111111111,
              "#46039f"
             ],
             [
              0.2222222222222222,
              "#7201a8"
             ],
             [
              0.3333333333333333,
              "#9c179e"
             ],
             [
              0.4444444444444444,
              "#bd3786"
             ],
             [
              0.5555555555555556,
              "#d8576b"
             ],
             [
              0.6666666666666666,
              "#ed7953"
             ],
             [
              0.7777777777777778,
              "#fb9f3a"
             ],
             [
              0.8888888888888888,
              "#fdca26"
             ],
             [
              1.0,
              "#f0f921"
             ]
            ]
           }
          ],
          "contourcarpet": [
           {
            "type": "contourcarpet",
            "colorbar": {
             "outlinewidth": 0,
             "ticks": ""
            }
           }
          ],
          "contour": [
           {
            "type": "contour",
            "colorbar": {
             "outlinewidth": 0,
             "ticks": ""
            },
            "colorscale": [
             [
              0.0,
              "#0d0887"
             ],
             [
              0.1111111111111111,
              "#46039f"
             ],
             [
              0.2222222222222222,
              "#7201a8"
             ],
             [
              0.3333333333333333,
              "#9c179e"
             ],
             [
              0.4444444444444444,
              "#bd3786"
             ],
             [
              0.5555555555555556,
              "#d8576b"
             ],
             [
              0.6666666666666666,
              "#ed7953"
             ],
             [
              0.7777777777777778,
              "#fb9f3a"
             ],
             [
              0.8888888888888888,
              "#fdca26"
             ],
             [
              1.0,
              "#f0f921"
             ]
            ]
           }
          ],
          "surface": [
           {
            "type": "surface",
            "colorbar": {
             "outlinewidth": 0,
             "ticks": ""
            },
            "colorscale": [
             [
              0.0,
              "#0d0887"
             ],
             [
              0.1111111111111111,
              "#46039f"
             ],
             [
              0.2222222222222222,
              "#7201a8"
             ],
             [
              0.3333333333333333,
              "#9c179e"
             ],
             [
              0.4444444444444444,
              "#bd3786"
             ],
             [
              0.5555555555555556,
              "#d8576b"
             ],
             [
              0.6666666666666666,
              "#ed7953"
             ],
             [
              0.7777777777777778,
              "#fb9f3a"
             ],
             [
              0.8888888888888888,
              "#fdca26"
             ],
             [
              1.0,
              "#f0f921"
             ]
            ]
           }
          ],
          "mesh3d": [
           {
            "type": "mesh3d",
            "colorbar": {
             "outlinewidth": 0,
             "ticks": ""
            }
           }
          ],
          "scatter": [
           {
            "marker": {
             "line": {
              "color": "#283442"
             }
            },
            "type": "scatter"
           }
          ],
          "parcoords": [
           {
            "type": "parcoords",
            "line": {
             "colorbar": {
              "outlinewidth": 0,
              "ticks": ""
             }
            }
           }
          ],
          "scatterpolargl": [
           {
            "type": "scatterpolargl",
            "marker": {
             "colorbar": {
              "outlinewidth": 0,
              "ticks": ""
             }
            }
           }
          ],
          "bar": [
           {
            "error_x": {
             "color": "#f2f5fa"
            },
            "error_y": {
             "color": "#f2f5fa"
            },
            "marker": {
             "line": {
              "color": "rgb(17,17,17)",
              "width": 0.5
             },
             "pattern": {
              "fillmode": "overlay",
              "size": 10,
              "solidity": 0.2
             }
            },
            "type": "bar"
           }
          ],
          "scattergeo": [
           {
            "type": "scattergeo",
            "marker": {
             "colorbar": {
              "outlinewidth": 0,
              "ticks": ""
             }
            }
           }
          ],
          "scatterpolar": [
           {
            "type": "scatterpolar",
            "marker": {
             "colorbar": {
              "outlinewidth": 0,
              "ticks": ""
             }
            }
           }
          ],
          "histogram": [
           {
            "marker": {
             "pattern": {
              "fillmode": "overlay",
              "size": 10,
              "solidity": 0.2
             }
            },
            "type": "histogram"
           }
          ],
          "scattergl": [
           {
            "marker": {
             "line": {
              "color": "#283442"
             }
            },
            "type": "scattergl"
           }
          ],
          "scatter3d": [
           {
            "type": "scatter3d",
            "line": {
             "colorbar": {
              "outlinewidth": 0,
              "ticks": ""
             }
            },
            "marker": {
             "colorbar": {
              "outlinewidth": 0,
              "ticks": ""
             }
            }
           }
          ],
          "scattermapbox": [
           {
            "type": "scattermapbox",
            "marker": {
             "colorbar": {
              "outlinewidth": 0,
              "ticks": ""
             }
            }
           }
          ],
          "scatterternary": [
           {
            "type": "scatterternary",
            "marker": {
             "colorbar": {
              "outlinewidth": 0,
              "ticks": ""
             }
            }
           }
          ],
          "scattercarpet": [
           {
            "type": "scattercarpet",
            "marker": {
             "colorbar": {
              "outlinewidth": 0,
              "ticks": ""
             }
            }
           }
          ],
          "carpet": [
           {
            "aaxis": {
             "endlinecolor": "#A2B1C6",
             "gridcolor": "#506784",
             "linecolor": "#506784",
             "minorgridcolor": "#506784",
             "startlinecolor": "#A2B1C6"
            },
            "baxis": {
             "endlinecolor": "#A2B1C6",
             "gridcolor": "#506784",
             "linecolor": "#506784",
             "minorgridcolor": "#506784",
             "startlinecolor": "#A2B1C6"
            },
            "type": "carpet"
           }
          ],
          "table": [
           {
            "cells": {
             "fill": {
              "color": "#506784"
             },
             "line": {
              "color": "rgb(17,17,17)"
             }
            },
            "header": {
             "fill": {
              "color": "#2a3f5f"
             },
             "line": {
              "color": "rgb(17,17,17)"
             }
            },
            "type": "table"
           }
          ],
          "barpolar": [
           {
            "marker": {
             "line": {
              "color": "rgb(17,17,17)",
              "width": 0.5
             },
             "pattern": {
              "fillmode": "overlay",
              "size": 10,
              "solidity": 0.2
             }
            },
            "type": "barpolar"
           }
          ],
          "pie": [
           {
            "automargin": true,
            "type": "pie"
           }
          ]
         },
         "layout": {
          "autotypenumbers": "strict",
          "colorway": [
           "#636efa",
           "#EF553B",
           "#00cc96",
           "#ab63fa",
           "#FFA15A",
           "#19d3f3",
           "#FF6692",
           "#B6E880",
           "#FF97FF",
           "#FECB52"
          ],
          "font": {
           "color": "#f2f5fa"
          },
          "hovermode": "closest",
          "hoverlabel": {
           "align": "left"
          },
          "paper_bgcolor": "rgb(17,17,17)",
          "plot_bgcolor": "rgb(17,17,17)",
          "polar": {
           "bgcolor": "rgb(17,17,17)",
           "angularaxis": {
            "gridcolor": "#506784",
            "linecolor": "#506784",
            "ticks": ""
           },
           "radialaxis": {
            "gridcolor": "#506784",
            "linecolor": "#506784",
            "ticks": ""
           }
          },
          "ternary": {
           "bgcolor": "rgb(17,17,17)",
           "aaxis": {
            "gridcolor": "#506784",
            "linecolor": "#506784",
            "ticks": ""
           },
           "baxis": {
            "gridcolor": "#506784",
            "linecolor": "#506784",
            "ticks": ""
           },
           "caxis": {
            "gridcolor": "#506784",
            "linecolor": "#506784",
            "ticks": ""
           }
          },
          "coloraxis": {
           "colorbar": {
            "outlinewidth": 0,
            "ticks": ""
           }
          },
          "colorscale": {
           "sequential": [
            [
             0.0,
             "#0d0887"
            ],
            [
             0.1111111111111111,
             "#46039f"
            ],
            [
             0.2222222222222222,
             "#7201a8"
            ],
            [
             0.3333333333333333,
             "#9c179e"
            ],
            [
             0.4444444444444444,
             "#bd3786"
            ],
            [
             0.5555555555555556,
             "#d8576b"
            ],
            [
             0.6666666666666666,
             "#ed7953"
            ],
            [
             0.7777777777777778,
             "#fb9f3a"
            ],
            [
             0.8888888888888888,
             "#fdca26"
            ],
            [
             1.0,
             "#f0f921"
            ]
           ],
           "sequentialminus": [
            [
             0.0,
             "#0d0887"
            ],
            [
             0.1111111111111111,
             "#46039f"
            ],
            [
             0.2222222222222222,
             "#7201a8"
            ],
            [
             0.3333333333333333,
             "#9c179e"
            ],
            [
             0.4444444444444444,
             "#bd3786"
            ],
            [
             0.5555555555555556,
             "#d8576b"
            ],
            [
             0.6666666666666666,
             "#ed7953"
            ],
            [
             0.7777777777777778,
             "#fb9f3a"
            ],
            [
             0.8888888888888888,
             "#fdca26"
            ],
            [
             1.0,
             "#f0f921"
            ]
           ],
           "diverging": [
            [
             0,
             "#8e0152"
            ],
            [
             0.1,
             "#c51b7d"
            ],
            [
             0.2,
             "#de77ae"
            ],
            [
             0.3,
             "#f1b6da"
            ],
            [
             0.4,
             "#fde0ef"
            ],
            [
             0.5,
             "#f7f7f7"
            ],
            [
             0.6,
             "#e6f5d0"
            ],
            [
             0.7,
             "#b8e186"
            ],
            [
             0.8,
             "#7fbc41"
            ],
            [
             0.9,
             "#4d9221"
            ],
            [
             1,
             "#276419"
            ]
           ]
          },
          "xaxis": {
           "gridcolor": "#283442",
           "linecolor": "#506784",
           "ticks": "",
           "title": {
            "standoff": 15
           },
           "zerolinecolor": "#283442",
           "automargin": true,
           "zerolinewidth": 2
          },
          "yaxis": {
           "gridcolor": "#283442",
           "linecolor": "#506784",
           "ticks": "",
           "title": {
            "standoff": 15
           },
           "zerolinecolor": "#283442",
           "automargin": true,
           "zerolinewidth": 2
          },
          "scene": {
           "xaxis": {
            "backgroundcolor": "rgb(17,17,17)",
            "gridcolor": "#506784",
            "linecolor": "#506784",
            "showbackground": true,
            "ticks": "",
            "zerolinecolor": "#C8D4E3",
            "gridwidth": 2
           },
           "yaxis": {
            "backgroundcolor": "rgb(17,17,17)",
            "gridcolor": "#506784",
            "linecolor": "#506784",
            "showbackground": true,
            "ticks": "",
            "zerolinecolor": "#C8D4E3",
            "gridwidth": 2
           },
           "zaxis": {
            "backgroundcolor": "rgb(17,17,17)",
            "gridcolor": "#506784",
            "linecolor": "#506784",
            "showbackground": true,
            "ticks": "",
            "zerolinecolor": "#C8D4E3",
            "gridwidth": 2
           }
          },
          "shapedefaults": {
           "line": {
            "color": "#f2f5fa"
           }
          },
          "annotationdefaults": {
           "arrowcolor": "#f2f5fa",
           "arrowhead": 0,
           "arrowwidth": 1
          },
          "geo": {
           "bgcolor": "rgb(17,17,17)",
           "landcolor": "rgb(17,17,17)",
           "subunitcolor": "#506784",
           "showland": true,
           "showlakes": true,
           "lakecolor": "rgb(17,17,17)"
          },
          "title": {
           "x": 0.05
          },
          "updatemenudefaults": {
           "bgcolor": "#506784",
           "borderwidth": 0
          },
          "sliderdefaults": {
           "bgcolor": "#C8D4E3",
           "borderwidth": 1,
           "bordercolor": "rgb(17,17,17)",
           "tickwidth": 0
          },
          "mapbox": {
           "style": "dark"
          }
         }
        },
        "xaxis": {
         "anchor": "y",
         "domain": [
          0.0,
          1.0
         ],
         "title": {
          "text": "Angle"
         }
        },
        "yaxis": {
         "anchor": "x",
         "domain": [
          0.0,
          1.0
         ],
         "title": {
          "text": "Ellipticity"
         }
        },
        "legend": {
         "title": {
          "text": "Handedness"
         },
         "tracegroupgap": 0
        },
        "margin": {
         "t": 60
        }
       },
       "config": {
        "plotlyServerURL": "https://plot.ly"
       }
      },
      "text/html": "<div>                            <div id=\"a915ba33-fb10-4c60-9e98-5a64d8d39001\" class=\"plotly-graph-div\" style=\"height:525px; width:100%;\"></div>            <script type=\"text/javascript\">                require([\"plotly\"], function(Plotly) {                    window.PLOTLYENV=window.PLOTLYENV || {};                                    if (document.getElementById(\"a915ba33-fb10-4c60-9e98-5a64d8d39001\")) {                    Plotly.newPlot(                        \"a915ba33-fb10-4c60-9e98-5a64d8d39001\",                        [{\"hovertemplate\":\"Handedness=Left\\u003cbr\\u003eAngle=%{x}\\u003cbr\\u003eEllipticity=%{y}\\u003cextra\\u003e\\u003c\\u002fextra\\u003e\",\"legendgroup\":\"Left\",\"marker\":{\"color\":\"#636efa\",\"symbol\":\"triangle-down\"},\"mode\":\"markers\",\"name\":\"Left\",\"orientation\":\"v\",\"showlegend\":true,\"x\":[-58.711,-54.431,-51.58,-49.21,-47.06,-45.0,-42.94,-40.79,-38.42,-35.569,-31.289,-13.711,-9.431,-6.58,-4.21,-2.06],\"xaxis\":\"x\",\"y\":[0.6077466020468354,0.7151116286848175,0.7931587395036791,0.8628723181856386,0.9305591712367686,1.0,0.9305591712367687,0.8628723181856385,0.7931587395036789,0.7151116286848174,0.6077466020468353,0.24397712764796625,0.1661048567046571,0.11535022301124985,0.07361088598273775,0.03596928278491744],\"yaxis\":\"y\",\"type\":\"scatter\"},{\"hovertemplate\":\"Handedness=Linear\\u003cbr\\u003eAngle=%{x}\\u003cbr\\u003eEllipticity=%{y}\\u003cextra\\u003e\\u003c\\u002fextra\\u003e\",\"legendgroup\":\"Linear\",\"marker\":{\"color\":\"#636efa\",\"symbol\":\"circle\"},\"mode\":\"markers\",\"name\":\"Linear\",\"orientation\":\"v\",\"showlegend\":true,\"x\":[-0.0],\"xaxis\":\"x\",\"y\":[0.0],\"yaxis\":\"y\",\"type\":\"scatter\"},{\"hovertemplate\":\"Handedness=Right\\u003cbr\\u003eAngle=%{x}\\u003cbr\\u003eEllipticity=%{y}\\u003cextra\\u003e\\u003c\\u002fextra\\u003e\",\"legendgroup\":\"Right\",\"marker\":{\"color\":\"#636efa\",\"symbol\":\"triangle-up\"},\"mode\":\"markers\",\"name\":\"Right\",\"orientation\":\"v\",\"showlegend\":true,\"x\":[2.06,4.21,6.58,9.431,13.711,31.289,35.569,38.42,40.79,42.94,45.0,47.06,49.21,51.58,54.431,58.711],\"xaxis\":\"x\",\"y\":[0.03596928278491744,0.07361088598273775,0.11535022301124985,0.1661048567046571,0.24397712764796625,0.6077466020468353,0.7151116286848174,0.7931587395036789,0.8628723181856385,0.9305591712367687,1.0,0.9305591712367686,0.8628723181856386,0.7931587395036791,0.7151116286848175,0.6077466020468354],\"yaxis\":\"y\",\"type\":\"scatter\"},{\"line\":{\"color\":\"red\",\"width\":1},\"marker\":{\"color\":\"red\",\"size\":5,\"symbol\":\"circle\"},\"mode\":\"lines+markers\",\"name\":\"$I_x$\",\"x\":[-58.711,-54.431,-51.58,-49.21,-47.06,-45.0,-42.94,-40.79,-38.42,-35.569,-31.289,-13.711,-9.431,-6.58,-4.21,-2.06,-0.0,2.06,4.21,6.58,9.431,13.711,31.289,35.569,38.42,40.79,42.94,45.0,47.06,49.21,51.58,54.431,58.711],\"y\":[0.2697296762568064,0.33835506028392703,0.3861644358885881,0.4267858295781531,0.4640771937575707,0.5000000000000001,0.5359228062424293,0.573214170421847,0.6138355641114119,0.661644939716073,0.7302703237431937,0.9438193078305683,0.9731499904514287,0.9868690422931373,0.9946106400487568,0.9987078824238382,1.0,0.9987078824238382,0.9946106400487568,0.9868690422931373,0.9731499904514287,0.9438193078305683,0.7302703237431937,0.661644939716073,0.6138355641114119,0.573214170421847,0.5359228062424293,0.5000000000000001,0.4640771937575707,0.4267858295781531,0.3861644358885881,0.33835506028392703,0.2697296762568064],\"type\":\"scatter\"},{\"line\":{\"color\":\"green\",\"width\":1},\"marker\":{\"color\":\"green\",\"size\":5,\"symbol\":\"circle\"},\"mode\":\"lines+markers\",\"name\":\"$I_y$\",\"x\":[-58.711,-54.431,-51.58,-49.21,-47.06,-45.0,-42.94,-40.79,-38.42,-35.569,-31.289,-13.711,-9.431,-6.58,-4.21,-2.06,-0.0,2.06,4.21,6.58,9.431,13.711,31.289,35.569,38.42,40.79,42.94,45.0,47.06,49.21,51.58,54.431,58.711],\"y\":[0.7302703237431937,0.6616449397160729,0.6138355641114118,0.5732141704218467,0.5359228062424293,0.5000000000000001,0.4640771937575709,0.4267858295781531,0.386164435888588,0.33835506028392703,0.26972967625680627,0.05618069216943168,0.026850009548571238,0.013130957706862798,0.005389359951243301,0.0012921175761617305,0.0,0.0012921175761617305,0.005389359951243301,0.013130957706862798,0.026850009548571238,0.05618069216943168,0.26972967625680627,0.33835506028392703,0.386164435888588,0.4267858295781531,0.4640771937575709,0.5000000000000001,0.5359228062424293,0.5732141704218467,0.6138355641114118,0.6616449397160729,0.7302703237431937],\"type\":\"scatter\"}],                        {\"template\":{\"data\":{\"histogram2dcontour\":[{\"type\":\"histogram2dcontour\",\"colorbar\":{\"outlinewidth\":0,\"ticks\":\"\"},\"colorscale\":[[0.0,\"#0d0887\"],[0.1111111111111111,\"#46039f\"],[0.2222222222222222,\"#7201a8\"],[0.3333333333333333,\"#9c179e\"],[0.4444444444444444,\"#bd3786\"],[0.5555555555555556,\"#d8576b\"],[0.6666666666666666,\"#ed7953\"],[0.7777777777777778,\"#fb9f3a\"],[0.8888888888888888,\"#fdca26\"],[1.0,\"#f0f921\"]]}],\"choropleth\":[{\"type\":\"choropleth\",\"colorbar\":{\"outlinewidth\":0,\"ticks\":\"\"}}],\"histogram2d\":[{\"type\":\"histogram2d\",\"colorbar\":{\"outlinewidth\":0,\"ticks\":\"\"},\"colorscale\":[[0.0,\"#0d0887\"],[0.1111111111111111,\"#46039f\"],[0.2222222222222222,\"#7201a8\"],[0.3333333333333333,\"#9c179e\"],[0.4444444444444444,\"#bd3786\"],[0.5555555555555556,\"#d8576b\"],[0.6666666666666666,\"#ed7953\"],[0.7777777777777778,\"#fb9f3a\"],[0.8888888888888888,\"#fdca26\"],[1.0,\"#f0f921\"]]}],\"heatmap\":[{\"type\":\"heatmap\",\"colorbar\":{\"outlinewidth\":0,\"ticks\":\"\"},\"colorscale\":[[0.0,\"#0d0887\"],[0.1111111111111111,\"#46039f\"],[0.2222222222222222,\"#7201a8\"],[0.3333333333333333,\"#9c179e\"],[0.4444444444444444,\"#bd3786\"],[0.5555555555555556,\"#d8576b\"],[0.6666666666666666,\"#ed7953\"],[0.7777777777777778,\"#fb9f3a\"],[0.8888888888888888,\"#fdca26\"],[1.0,\"#f0f921\"]]}],\"heatmapgl\":[{\"type\":\"heatmapgl\",\"colorbar\":{\"outlinewidth\":0,\"ticks\":\"\"},\"colorscale\":[[0.0,\"#0d0887\"],[0.1111111111111111,\"#46039f\"],[0.2222222222222222,\"#7201a8\"],[0.3333333333333333,\"#9c179e\"],[0.4444444444444444,\"#bd3786\"],[0.5555555555555556,\"#d8576b\"],[0.6666666666666666,\"#ed7953\"],[0.7777777777777778,\"#fb9f3a\"],[0.8888888888888888,\"#fdca26\"],[1.0,\"#f0f921\"]]}],\"contourcarpet\":[{\"type\":\"contourcarpet\",\"colorbar\":{\"outlinewidth\":0,\"ticks\":\"\"}}],\"contour\":[{\"type\":\"contour\",\"colorbar\":{\"outlinewidth\":0,\"ticks\":\"\"},\"colorscale\":[[0.0,\"#0d0887\"],[0.1111111111111111,\"#46039f\"],[0.2222222222222222,\"#7201a8\"],[0.3333333333333333,\"#9c179e\"],[0.4444444444444444,\"#bd3786\"],[0.5555555555555556,\"#d8576b\"],[0.6666666666666666,\"#ed7953\"],[0.7777777777777778,\"#fb9f3a\"],[0.8888888888888888,\"#fdca26\"],[1.0,\"#f0f921\"]]}],\"surface\":[{\"type\":\"surface\",\"colorbar\":{\"outlinewidth\":0,\"ticks\":\"\"},\"colorscale\":[[0.0,\"#0d0887\"],[0.1111111111111111,\"#46039f\"],[0.2222222222222222,\"#7201a8\"],[0.3333333333333333,\"#9c179e\"],[0.4444444444444444,\"#bd3786\"],[0.5555555555555556,\"#d8576b\"],[0.6666666666666666,\"#ed7953\"],[0.7777777777777778,\"#fb9f3a\"],[0.8888888888888888,\"#fdca26\"],[1.0,\"#f0f921\"]]}],\"mesh3d\":[{\"type\":\"mesh3d\",\"colorbar\":{\"outlinewidth\":0,\"ticks\":\"\"}}],\"scatter\":[{\"marker\":{\"line\":{\"color\":\"#283442\"}},\"type\":\"scatter\"}],\"parcoords\":[{\"type\":\"parcoords\",\"line\":{\"colorbar\":{\"outlinewidth\":0,\"ticks\":\"\"}}}],\"scatterpolargl\":[{\"type\":\"scatterpolargl\",\"marker\":{\"colorbar\":{\"outlinewidth\":0,\"ticks\":\"\"}}}],\"bar\":[{\"error_x\":{\"color\":\"#f2f5fa\"},\"error_y\":{\"color\":\"#f2f5fa\"},\"marker\":{\"line\":{\"color\":\"rgb(17,17,17)\",\"width\":0.5},\"pattern\":{\"fillmode\":\"overlay\",\"size\":10,\"solidity\":0.2}},\"type\":\"bar\"}],\"scattergeo\":[{\"type\":\"scattergeo\",\"marker\":{\"colorbar\":{\"outlinewidth\":0,\"ticks\":\"\"}}}],\"scatterpolar\":[{\"type\":\"scatterpolar\",\"marker\":{\"colorbar\":{\"outlinewidth\":0,\"ticks\":\"\"}}}],\"histogram\":[{\"marker\":{\"pattern\":{\"fillmode\":\"overlay\",\"size\":10,\"solidity\":0.2}},\"type\":\"histogram\"}],\"scattergl\":[{\"marker\":{\"line\":{\"color\":\"#283442\"}},\"type\":\"scattergl\"}],\"scatter3d\":[{\"type\":\"scatter3d\",\"line\":{\"colorbar\":{\"outlinewidth\":0,\"ticks\":\"\"}},\"marker\":{\"colorbar\":{\"outlinewidth\":0,\"ticks\":\"\"}}}],\"scattermapbox\":[{\"type\":\"scattermapbox\",\"marker\":{\"colorbar\":{\"outlinewidth\":0,\"ticks\":\"\"}}}],\"scatterternary\":[{\"type\":\"scatterternary\",\"marker\":{\"colorbar\":{\"outlinewidth\":0,\"ticks\":\"\"}}}],\"scattercarpet\":[{\"type\":\"scattercarpet\",\"marker\":{\"colorbar\":{\"outlinewidth\":0,\"ticks\":\"\"}}}],\"carpet\":[{\"aaxis\":{\"endlinecolor\":\"#A2B1C6\",\"gridcolor\":\"#506784\",\"linecolor\":\"#506784\",\"minorgridcolor\":\"#506784\",\"startlinecolor\":\"#A2B1C6\"},\"baxis\":{\"endlinecolor\":\"#A2B1C6\",\"gridcolor\":\"#506784\",\"linecolor\":\"#506784\",\"minorgridcolor\":\"#506784\",\"startlinecolor\":\"#A2B1C6\"},\"type\":\"carpet\"}],\"table\":[{\"cells\":{\"fill\":{\"color\":\"#506784\"},\"line\":{\"color\":\"rgb(17,17,17)\"}},\"header\":{\"fill\":{\"color\":\"#2a3f5f\"},\"line\":{\"color\":\"rgb(17,17,17)\"}},\"type\":\"table\"}],\"barpolar\":[{\"marker\":{\"line\":{\"color\":\"rgb(17,17,17)\",\"width\":0.5},\"pattern\":{\"fillmode\":\"overlay\",\"size\":10,\"solidity\":0.2}},\"type\":\"barpolar\"}],\"pie\":[{\"automargin\":true,\"type\":\"pie\"}]},\"layout\":{\"autotypenumbers\":\"strict\",\"colorway\":[\"#636efa\",\"#EF553B\",\"#00cc96\",\"#ab63fa\",\"#FFA15A\",\"#19d3f3\",\"#FF6692\",\"#B6E880\",\"#FF97FF\",\"#FECB52\"],\"font\":{\"color\":\"#f2f5fa\"},\"hovermode\":\"closest\",\"hoverlabel\":{\"align\":\"left\"},\"paper_bgcolor\":\"rgb(17,17,17)\",\"plot_bgcolor\":\"rgb(17,17,17)\",\"polar\":{\"bgcolor\":\"rgb(17,17,17)\",\"angularaxis\":{\"gridcolor\":\"#506784\",\"linecolor\":\"#506784\",\"ticks\":\"\"},\"radialaxis\":{\"gridcolor\":\"#506784\",\"linecolor\":\"#506784\",\"ticks\":\"\"}},\"ternary\":{\"bgcolor\":\"rgb(17,17,17)\",\"aaxis\":{\"gridcolor\":\"#506784\",\"linecolor\":\"#506784\",\"ticks\":\"\"},\"baxis\":{\"gridcolor\":\"#506784\",\"linecolor\":\"#506784\",\"ticks\":\"\"},\"caxis\":{\"gridcolor\":\"#506784\",\"linecolor\":\"#506784\",\"ticks\":\"\"}},\"coloraxis\":{\"colorbar\":{\"outlinewidth\":0,\"ticks\":\"\"}},\"colorscale\":{\"sequential\":[[0.0,\"#0d0887\"],[0.1111111111111111,\"#46039f\"],[0.2222222222222222,\"#7201a8\"],[0.3333333333333333,\"#9c179e\"],[0.4444444444444444,\"#bd3786\"],[0.5555555555555556,\"#d8576b\"],[0.6666666666666666,\"#ed7953\"],[0.7777777777777778,\"#fb9f3a\"],[0.8888888888888888,\"#fdca26\"],[1.0,\"#f0f921\"]],\"sequentialminus\":[[0.0,\"#0d0887\"],[0.1111111111111111,\"#46039f\"],[0.2222222222222222,\"#7201a8\"],[0.3333333333333333,\"#9c179e\"],[0.4444444444444444,\"#bd3786\"],[0.5555555555555556,\"#d8576b\"],[0.6666666666666666,\"#ed7953\"],[0.7777777777777778,\"#fb9f3a\"],[0.8888888888888888,\"#fdca26\"],[1.0,\"#f0f921\"]],\"diverging\":[[0,\"#8e0152\"],[0.1,\"#c51b7d\"],[0.2,\"#de77ae\"],[0.3,\"#f1b6da\"],[0.4,\"#fde0ef\"],[0.5,\"#f7f7f7\"],[0.6,\"#e6f5d0\"],[0.7,\"#b8e186\"],[0.8,\"#7fbc41\"],[0.9,\"#4d9221\"],[1,\"#276419\"]]},\"xaxis\":{\"gridcolor\":\"#283442\",\"linecolor\":\"#506784\",\"ticks\":\"\",\"title\":{\"standoff\":15},\"zerolinecolor\":\"#283442\",\"automargin\":true,\"zerolinewidth\":2},\"yaxis\":{\"gridcolor\":\"#283442\",\"linecolor\":\"#506784\",\"ticks\":\"\",\"title\":{\"standoff\":15},\"zerolinecolor\":\"#283442\",\"automargin\":true,\"zerolinewidth\":2},\"scene\":{\"xaxis\":{\"backgroundcolor\":\"rgb(17,17,17)\",\"gridcolor\":\"#506784\",\"linecolor\":\"#506784\",\"showbackground\":true,\"ticks\":\"\",\"zerolinecolor\":\"#C8D4E3\",\"gridwidth\":2},\"yaxis\":{\"backgroundcolor\":\"rgb(17,17,17)\",\"gridcolor\":\"#506784\",\"linecolor\":\"#506784\",\"showbackground\":true,\"ticks\":\"\",\"zerolinecolor\":\"#C8D4E3\",\"gridwidth\":2},\"zaxis\":{\"backgroundcolor\":\"rgb(17,17,17)\",\"gridcolor\":\"#506784\",\"linecolor\":\"#506784\",\"showbackground\":true,\"ticks\":\"\",\"zerolinecolor\":\"#C8D4E3\",\"gridwidth\":2}},\"shapedefaults\":{\"line\":{\"color\":\"#f2f5fa\"}},\"annotationdefaults\":{\"arrowcolor\":\"#f2f5fa\",\"arrowhead\":0,\"arrowwidth\":1},\"geo\":{\"bgcolor\":\"rgb(17,17,17)\",\"landcolor\":\"rgb(17,17,17)\",\"subunitcolor\":\"#506784\",\"showland\":true,\"showlakes\":true,\"lakecolor\":\"rgb(17,17,17)\"},\"title\":{\"x\":0.05},\"updatemenudefaults\":{\"bgcolor\":\"#506784\",\"borderwidth\":0},\"sliderdefaults\":{\"bgcolor\":\"#C8D4E3\",\"borderwidth\":1,\"bordercolor\":\"rgb(17,17,17)\",\"tickwidth\":0},\"mapbox\":{\"style\":\"dark\"}}},\"xaxis\":{\"anchor\":\"y\",\"domain\":[0.0,1.0],\"title\":{\"text\":\"Angle\"}},\"yaxis\":{\"anchor\":\"x\",\"domain\":[0.0,1.0],\"title\":{\"text\":\"Ellipticity\"}},\"legend\":{\"title\":{\"text\":\"Handedness\"},\"tracegroupgap\":0},\"margin\":{\"t\":60}},                        {\"responsive\": true}                    ).then(function(){\n                            \nvar gd = document.getElementById('a915ba33-fb10-4c60-9e98-5a64d8d39001');\nvar x = new MutationObserver(function (mutations, observer) {{\n        var display = window.getComputedStyle(gd).display;\n        if (!display || display === 'none') {{\n            console.log([gd, 'removed!']);\n            Plotly.purge(gd);\n            observer.disconnect();\n        }}\n}});\n\n// Listen for the removal of the full notebook cells\nvar notebookContainer = gd.closest('#notebook-container');\nif (notebookContainer) {{\n    x.observe(notebookContainer, {childList: true});\n}}\n\n// Listen for the clearing of the current output cell\nvar outputEl = gd.closest('.output');\nif (outputEl) {{\n    x.observe(outputEl, {childList: true});\n}}\n\n                        })                };                });            </script>        </div>"
     },
     "metadata": {},
     "output_type": "display_data"
    },
    {
     "data": {
      "text/plain": "'-58.711, -54.431, -51.58, -49.21, -47.06, -45.0, -42.94, -40.79, -38.42, -35.569, -31.289, -13.711, -9.431, -6.58, -4.21, -2.06, -0.0, 2.06, 4.21, 6.58, 9.431, 13.711, 31.289, 35.569, 38.42, 40.79, 42.94, 45.0, 47.06, 49.21, 51.58, 54.431, 58.711'"
     },
     "metadata": {},
     "output_type": "display_data"
    },
    {
     "name": "stdout",
     "output_type": "stream",
     "text": [
      "31.000000000000004 11.776026372754407\n",
      "0.9393939393939394 0.3568492840228608 0.25833333333333336\n"
     ]
    },
    {
     "data": {
      "application/vnd.plotly.v1+json": {
       "data": [
        {
         "line": {
          "color": "purple",
          "width": 1
         },
         "marker": {
          "color": "purple",
          "size": 5,
          "symbol": "circle"
         },
         "mode": "lines+markers",
         "name": "Theoretical Density",
         "x": [
          -58.711,
          -54.431,
          -51.58,
          -49.21,
          -47.06,
          -45.0,
          -42.94,
          -40.79,
          -38.42,
          -35.569,
          -31.289,
          -13.711,
          -9.431,
          -6.58,
          -4.21,
          -2.06,
          -0.0,
          2.06,
          4.21,
          6.58,
          9.431,
          13.711,
          31.289,
          35.569,
          38.42,
          40.79,
          42.94,
          45.0,
          47.06,
          49.21,
          51.58,
          54.431,
          58.711
         ],
         "y": [
          0.41216606857475424,
          0.7777481855795245,
          0.9987561485570369,
          1.1388130547447217,
          1.2176104918556085,
          1.2431454347100415,
          1.2176104918556088,
          1.1388130547447217,
          0.9987561485570366,
          0.7777481855795242,
          0.4121660685747539,
          0.41216606857475374,
          0.7777481855795242,
          0.9987561485570366,
          1.1388130547447217,
          1.2176104918556088,
          1.2431454347100415,
          1.2176104918556088,
          1.1388130547447217,
          0.9987561485570366,
          0.7777481855795242,
          0.41216606857475374,
          0.4121660685747539,
          0.7777481855795242,
          0.9987561485570366,
          1.1388130547447217,
          1.2176104918556088,
          1.2431454347100415,
          1.2176104918556085,
          1.1388130547447217,
          0.9987561485570369,
          0.7777481855795245,
          0.41216606857475424
         ],
         "type": "scatter",
         "xaxis": "x",
         "yaxis": "y"
        },
        {
         "line": {
          "color": "orange",
          "width": 1
         },
         "marker": {
          "color": "orange",
          "size": 5,
          "symbol": "circle"
         },
         "mode": "lines+markers",
         "name": "True Density",
         "x": [
          -58.711,
          -54.431,
          -51.58,
          -49.21,
          -47.06,
          -45.0,
          -42.94,
          -40.79,
          -38.42,
          -35.569,
          -31.289,
          -13.711,
          -9.431,
          -6.58,
          -4.21,
          -2.06,
          -0.0,
          2.06,
          4.21,
          6.58,
          9.431,
          13.711,
          31.289,
          35.569,
          38.42,
          40.79,
          42.94,
          45.0,
          47.06,
          49.21,
          51.58,
          54.431,
          58.711
         ],
         "y": [
          0.23364485981308405,
          0.28046557285093254,
          0.3830683777054207,
          0.4424778761061951,
          0.47505938242280277,
          0.48543689320388295,
          0.47505938242280277,
          0.4424778761061951,
          0.3830683777054207,
          0.28046557285093254,
          0.09149967975112086,
          0.09149967975112086,
          0.28046557285093254,
          0.38306837770542046,
          0.4424778761061947,
          0.4750593824228029,
          0.4854368932038835,
          0.4750593824228029,
          0.4424778761061947,
          0.38306837770542046,
          0.28046557285093254,
          0.09149967975112086,
          0.09149967975112086,
          0.28046557285093254,
          0.3830683777054207,
          0.4424778761061951,
          0.47505938242280277,
          0.48543689320388295,
          0.47505938242280277,
          0.4424778761061951,
          0.3830683777054207,
          0.28046557285093254,
          0.23364485981308405
         ],
         "type": "scatter",
         "xaxis": "x",
         "yaxis": "y"
        },
        {
         "line": {
          "color": "blue",
          "width": 1
         },
         "marker": {
          "color": "blue",
          "size": 5,
          "symbol": "circle"
         },
         "mode": "lines+markers",
         "name": "Spacing",
         "x": [
          -58.711,
          -54.431,
          -51.58,
          -49.21,
          -47.06,
          -45.0,
          -42.94,
          -40.79,
          -38.42,
          -35.569,
          -31.289,
          -13.711,
          -9.431,
          -6.58,
          -4.21,
          -2.06,
          -0.0,
          2.06,
          4.21,
          6.58,
          9.431,
          13.711,
          31.289,
          35.569,
          38.42,
          40.79,
          42.94,
          45.0,
          47.06,
          49.21,
          51.58,
          54.431,
          58.711
         ],
         "y": [
          4.280000000000001,
          3.5655,
          2.6104999999999983,
          2.259999999999998,
          2.1050000000000004,
          2.0600000000000023,
          2.1050000000000004,
          2.259999999999998,
          2.6104999999999983,
          3.5655,
          10.929000000000002,
          10.929000000000002,
          3.5655,
          2.6104999999999996,
          2.26,
          2.105,
          2.06,
          2.105,
          2.26,
          2.6104999999999996,
          3.5655,
          10.929000000000002,
          10.929000000000002,
          3.5655,
          2.6104999999999983,
          2.259999999999998,
          2.1050000000000004,
          2.0600000000000023,
          2.1050000000000004,
          2.259999999999998,
          2.6104999999999983,
          3.5655,
          4.280000000000001
         ],
         "type": "scatter",
         "xaxis": "x",
         "yaxis": "y2"
        }
       ],
       "layout": {
        "template": {
         "data": {
          "histogram2dcontour": [
           {
            "type": "histogram2dcontour",
            "colorbar": {
             "outlinewidth": 0,
             "ticks": ""
            },
            "colorscale": [
             [
              0.0,
              "#0d0887"
             ],
             [
              0.1111111111111111,
              "#46039f"
             ],
             [
              0.2222222222222222,
              "#7201a8"
             ],
             [
              0.3333333333333333,
              "#9c179e"
             ],
             [
              0.4444444444444444,
              "#bd3786"
             ],
             [
              0.5555555555555556,
              "#d8576b"
             ],
             [
              0.6666666666666666,
              "#ed7953"
             ],
             [
              0.7777777777777778,
              "#fb9f3a"
             ],
             [
              0.8888888888888888,
              "#fdca26"
             ],
             [
              1.0,
              "#f0f921"
             ]
            ]
           }
          ],
          "choropleth": [
           {
            "type": "choropleth",
            "colorbar": {
             "outlinewidth": 0,
             "ticks": ""
            }
           }
          ],
          "histogram2d": [
           {
            "type": "histogram2d",
            "colorbar": {
             "outlinewidth": 0,
             "ticks": ""
            },
            "colorscale": [
             [
              0.0,
              "#0d0887"
             ],
             [
              0.1111111111111111,
              "#46039f"
             ],
             [
              0.2222222222222222,
              "#7201a8"
             ],
             [
              0.3333333333333333,
              "#9c179e"
             ],
             [
              0.4444444444444444,
              "#bd3786"
             ],
             [
              0.5555555555555556,
              "#d8576b"
             ],
             [
              0.6666666666666666,
              "#ed7953"
             ],
             [
              0.7777777777777778,
              "#fb9f3a"
             ],
             [
              0.8888888888888888,
              "#fdca26"
             ],
             [
              1.0,
              "#f0f921"
             ]
            ]
           }
          ],
          "heatmap": [
           {
            "type": "heatmap",
            "colorbar": {
             "outlinewidth": 0,
             "ticks": ""
            },
            "colorscale": [
             [
              0.0,
              "#0d0887"
             ],
             [
              0.1111111111111111,
              "#46039f"
             ],
             [
              0.2222222222222222,
              "#7201a8"
             ],
             [
              0.3333333333333333,
              "#9c179e"
             ],
             [
              0.4444444444444444,
              "#bd3786"
             ],
             [
              0.5555555555555556,
              "#d8576b"
             ],
             [
              0.6666666666666666,
              "#ed7953"
             ],
             [
              0.7777777777777778,
              "#fb9f3a"
             ],
             [
              0.8888888888888888,
              "#fdca26"
             ],
             [
              1.0,
              "#f0f921"
             ]
            ]
           }
          ],
          "heatmapgl": [
           {
            "type": "heatmapgl",
            "colorbar": {
             "outlinewidth": 0,
             "ticks": ""
            },
            "colorscale": [
             [
              0.0,
              "#0d0887"
             ],
             [
              0.1111111111111111,
              "#46039f"
             ],
             [
              0.2222222222222222,
              "#7201a8"
             ],
             [
              0.3333333333333333,
              "#9c179e"
             ],
             [
              0.4444444444444444,
              "#bd3786"
             ],
             [
              0.5555555555555556,
              "#d8576b"
             ],
             [
              0.6666666666666666,
              "#ed7953"
             ],
             [
              0.7777777777777778,
              "#fb9f3a"
             ],
             [
              0.8888888888888888,
              "#fdca26"
             ],
             [
              1.0,
              "#f0f921"
             ]
            ]
           }
          ],
          "contourcarpet": [
           {
            "type": "contourcarpet",
            "colorbar": {
             "outlinewidth": 0,
             "ticks": ""
            }
           }
          ],
          "contour": [
           {
            "type": "contour",
            "colorbar": {
             "outlinewidth": 0,
             "ticks": ""
            },
            "colorscale": [
             [
              0.0,
              "#0d0887"
             ],
             [
              0.1111111111111111,
              "#46039f"
             ],
             [
              0.2222222222222222,
              "#7201a8"
             ],
             [
              0.3333333333333333,
              "#9c179e"
             ],
             [
              0.4444444444444444,
              "#bd3786"
             ],
             [
              0.5555555555555556,
              "#d8576b"
             ],
             [
              0.6666666666666666,
              "#ed7953"
             ],
             [
              0.7777777777777778,
              "#fb9f3a"
             ],
             [
              0.8888888888888888,
              "#fdca26"
             ],
             [
              1.0,
              "#f0f921"
             ]
            ]
           }
          ],
          "surface": [
           {
            "type": "surface",
            "colorbar": {
             "outlinewidth": 0,
             "ticks": ""
            },
            "colorscale": [
             [
              0.0,
              "#0d0887"
             ],
             [
              0.1111111111111111,
              "#46039f"
             ],
             [
              0.2222222222222222,
              "#7201a8"
             ],
             [
              0.3333333333333333,
              "#9c179e"
             ],
             [
              0.4444444444444444,
              "#bd3786"
             ],
             [
              0.5555555555555556,
              "#d8576b"
             ],
             [
              0.6666666666666666,
              "#ed7953"
             ],
             [
              0.7777777777777778,
              "#fb9f3a"
             ],
             [
              0.8888888888888888,
              "#fdca26"
             ],
             [
              1.0,
              "#f0f921"
             ]
            ]
           }
          ],
          "mesh3d": [
           {
            "type": "mesh3d",
            "colorbar": {
             "outlinewidth": 0,
             "ticks": ""
            }
           }
          ],
          "scatter": [
           {
            "marker": {
             "line": {
              "color": "#283442"
             }
            },
            "type": "scatter"
           }
          ],
          "parcoords": [
           {
            "type": "parcoords",
            "line": {
             "colorbar": {
              "outlinewidth": 0,
              "ticks": ""
             }
            }
           }
          ],
          "scatterpolargl": [
           {
            "type": "scatterpolargl",
            "marker": {
             "colorbar": {
              "outlinewidth": 0,
              "ticks": ""
             }
            }
           }
          ],
          "bar": [
           {
            "error_x": {
             "color": "#f2f5fa"
            },
            "error_y": {
             "color": "#f2f5fa"
            },
            "marker": {
             "line": {
              "color": "rgb(17,17,17)",
              "width": 0.5
             },
             "pattern": {
              "fillmode": "overlay",
              "size": 10,
              "solidity": 0.2
             }
            },
            "type": "bar"
           }
          ],
          "scattergeo": [
           {
            "type": "scattergeo",
            "marker": {
             "colorbar": {
              "outlinewidth": 0,
              "ticks": ""
             }
            }
           }
          ],
          "scatterpolar": [
           {
            "type": "scatterpolar",
            "marker": {
             "colorbar": {
              "outlinewidth": 0,
              "ticks": ""
             }
            }
           }
          ],
          "histogram": [
           {
            "marker": {
             "pattern": {
              "fillmode": "overlay",
              "size": 10,
              "solidity": 0.2
             }
            },
            "type": "histogram"
           }
          ],
          "scattergl": [
           {
            "marker": {
             "line": {
              "color": "#283442"
             }
            },
            "type": "scattergl"
           }
          ],
          "scatter3d": [
           {
            "type": "scatter3d",
            "line": {
             "colorbar": {
              "outlinewidth": 0,
              "ticks": ""
             }
            },
            "marker": {
             "colorbar": {
              "outlinewidth": 0,
              "ticks": ""
             }
            }
           }
          ],
          "scattermapbox": [
           {
            "type": "scattermapbox",
            "marker": {
             "colorbar": {
              "outlinewidth": 0,
              "ticks": ""
             }
            }
           }
          ],
          "scatterternary": [
           {
            "type": "scatterternary",
            "marker": {
             "colorbar": {
              "outlinewidth": 0,
              "ticks": ""
             }
            }
           }
          ],
          "scattercarpet": [
           {
            "type": "scattercarpet",
            "marker": {
             "colorbar": {
              "outlinewidth": 0,
              "ticks": ""
             }
            }
           }
          ],
          "carpet": [
           {
            "aaxis": {
             "endlinecolor": "#A2B1C6",
             "gridcolor": "#506784",
             "linecolor": "#506784",
             "minorgridcolor": "#506784",
             "startlinecolor": "#A2B1C6"
            },
            "baxis": {
             "endlinecolor": "#A2B1C6",
             "gridcolor": "#506784",
             "linecolor": "#506784",
             "minorgridcolor": "#506784",
             "startlinecolor": "#A2B1C6"
            },
            "type": "carpet"
           }
          ],
          "table": [
           {
            "cells": {
             "fill": {
              "color": "#506784"
             },
             "line": {
              "color": "rgb(17,17,17)"
             }
            },
            "header": {
             "fill": {
              "color": "#2a3f5f"
             },
             "line": {
              "color": "rgb(17,17,17)"
             }
            },
            "type": "table"
           }
          ],
          "barpolar": [
           {
            "marker": {
             "line": {
              "color": "rgb(17,17,17)",
              "width": 0.5
             },
             "pattern": {
              "fillmode": "overlay",
              "size": 10,
              "solidity": 0.2
             }
            },
            "type": "barpolar"
           }
          ],
          "pie": [
           {
            "automargin": true,
            "type": "pie"
           }
          ]
         },
         "layout": {
          "autotypenumbers": "strict",
          "colorway": [
           "#636efa",
           "#EF553B",
           "#00cc96",
           "#ab63fa",
           "#FFA15A",
           "#19d3f3",
           "#FF6692",
           "#B6E880",
           "#FF97FF",
           "#FECB52"
          ],
          "font": {
           "color": "#f2f5fa"
          },
          "hovermode": "closest",
          "hoverlabel": {
           "align": "left"
          },
          "paper_bgcolor": "rgb(17,17,17)",
          "plot_bgcolor": "rgb(17,17,17)",
          "polar": {
           "bgcolor": "rgb(17,17,17)",
           "angularaxis": {
            "gridcolor": "#506784",
            "linecolor": "#506784",
            "ticks": ""
           },
           "radialaxis": {
            "gridcolor": "#506784",
            "linecolor": "#506784",
            "ticks": ""
           }
          },
          "ternary": {
           "bgcolor": "rgb(17,17,17)",
           "aaxis": {
            "gridcolor": "#506784",
            "linecolor": "#506784",
            "ticks": ""
           },
           "baxis": {
            "gridcolor": "#506784",
            "linecolor": "#506784",
            "ticks": ""
           },
           "caxis": {
            "gridcolor": "#506784",
            "linecolor": "#506784",
            "ticks": ""
           }
          },
          "coloraxis": {
           "colorbar": {
            "outlinewidth": 0,
            "ticks": ""
           }
          },
          "colorscale": {
           "sequential": [
            [
             0.0,
             "#0d0887"
            ],
            [
             0.1111111111111111,
             "#46039f"
            ],
            [
             0.2222222222222222,
             "#7201a8"
            ],
            [
             0.3333333333333333,
             "#9c179e"
            ],
            [
             0.4444444444444444,
             "#bd3786"
            ],
            [
             0.5555555555555556,
             "#d8576b"
            ],
            [
             0.6666666666666666,
             "#ed7953"
            ],
            [
             0.7777777777777778,
             "#fb9f3a"
            ],
            [
             0.8888888888888888,
             "#fdca26"
            ],
            [
             1.0,
             "#f0f921"
            ]
           ],
           "sequentialminus": [
            [
             0.0,
             "#0d0887"
            ],
            [
             0.1111111111111111,
             "#46039f"
            ],
            [
             0.2222222222222222,
             "#7201a8"
            ],
            [
             0.3333333333333333,
             "#9c179e"
            ],
            [
             0.4444444444444444,
             "#bd3786"
            ],
            [
             0.5555555555555556,
             "#d8576b"
            ],
            [
             0.6666666666666666,
             "#ed7953"
            ],
            [
             0.7777777777777778,
             "#fb9f3a"
            ],
            [
             0.8888888888888888,
             "#fdca26"
            ],
            [
             1.0,
             "#f0f921"
            ]
           ],
           "diverging": [
            [
             0,
             "#8e0152"
            ],
            [
             0.1,
             "#c51b7d"
            ],
            [
             0.2,
             "#de77ae"
            ],
            [
             0.3,
             "#f1b6da"
            ],
            [
             0.4,
             "#fde0ef"
            ],
            [
             0.5,
             "#f7f7f7"
            ],
            [
             0.6,
             "#e6f5d0"
            ],
            [
             0.7,
             "#b8e186"
            ],
            [
             0.8,
             "#7fbc41"
            ],
            [
             0.9,
             "#4d9221"
            ],
            [
             1,
             "#276419"
            ]
           ]
          },
          "xaxis": {
           "gridcolor": "#283442",
           "linecolor": "#506784",
           "ticks": "",
           "title": {
            "standoff": 15
           },
           "zerolinecolor": "#283442",
           "automargin": true,
           "zerolinewidth": 2
          },
          "yaxis": {
           "gridcolor": "#283442",
           "linecolor": "#506784",
           "ticks": "",
           "title": {
            "standoff": 15
           },
           "zerolinecolor": "#283442",
           "automargin": true,
           "zerolinewidth": 2
          },
          "scene": {
           "xaxis": {
            "backgroundcolor": "rgb(17,17,17)",
            "gridcolor": "#506784",
            "linecolor": "#506784",
            "showbackground": true,
            "ticks": "",
            "zerolinecolor": "#C8D4E3",
            "gridwidth": 2
           },
           "yaxis": {
            "backgroundcolor": "rgb(17,17,17)",
            "gridcolor": "#506784",
            "linecolor": "#506784",
            "showbackground": true,
            "ticks": "",
            "zerolinecolor": "#C8D4E3",
            "gridwidth": 2
           },
           "zaxis": {
            "backgroundcolor": "rgb(17,17,17)",
            "gridcolor": "#506784",
            "linecolor": "#506784",
            "showbackground": true,
            "ticks": "",
            "zerolinecolor": "#C8D4E3",
            "gridwidth": 2
           }
          },
          "shapedefaults": {
           "line": {
            "color": "#f2f5fa"
           }
          },
          "annotationdefaults": {
           "arrowcolor": "#f2f5fa",
           "arrowhead": 0,
           "arrowwidth": 1
          },
          "geo": {
           "bgcolor": "rgb(17,17,17)",
           "landcolor": "rgb(17,17,17)",
           "subunitcolor": "#506784",
           "showland": true,
           "showlakes": true,
           "lakecolor": "rgb(17,17,17)"
          },
          "title": {
           "x": 0.05
          },
          "updatemenudefaults": {
           "bgcolor": "#506784",
           "borderwidth": 0
          },
          "sliderdefaults": {
           "bgcolor": "#C8D4E3",
           "borderwidth": 1,
           "bordercolor": "rgb(17,17,17)",
           "tickwidth": 0
          },
          "mapbox": {
           "style": "dark"
          }
         }
        },
        "xaxis": {
         "anchor": "y",
         "domain": [
          0.0,
          0.94
         ]
        },
        "yaxis": {
         "anchor": "x",
         "domain": [
          0.0,
          1.0
         ],
         "title": {
          "text": "Density"
         }
        },
        "yaxis2": {
         "anchor": "x",
         "overlaying": "y",
         "side": "right",
         "title": {
          "text": "Spacing"
         },
         "range": [
          0,
          20
         ]
        }
       },
       "config": {
        "plotlyServerURL": "https://plot.ly"
       }
      },
      "text/html": "<div>                            <div id=\"d93149f9-c59d-4781-8972-fbbd3116aa17\" class=\"plotly-graph-div\" style=\"height:525px; width:100%;\"></div>            <script type=\"text/javascript\">                require([\"plotly\"], function(Plotly) {                    window.PLOTLYENV=window.PLOTLYENV || {};                                    if (document.getElementById(\"d93149f9-c59d-4781-8972-fbbd3116aa17\")) {                    Plotly.newPlot(                        \"d93149f9-c59d-4781-8972-fbbd3116aa17\",                        [{\"line\":{\"color\":\"purple\",\"width\":1},\"marker\":{\"color\":\"purple\",\"size\":5,\"symbol\":\"circle\"},\"mode\":\"lines+markers\",\"name\":\"Theoretical Density\",\"x\":[-58.711,-54.431,-51.58,-49.21,-47.06,-45.0,-42.94,-40.79,-38.42,-35.569,-31.289,-13.711,-9.431,-6.58,-4.21,-2.06,-0.0,2.06,4.21,6.58,9.431,13.711,31.289,35.569,38.42,40.79,42.94,45.0,47.06,49.21,51.58,54.431,58.711],\"y\":[0.41216606857475424,0.7777481855795245,0.9987561485570369,1.1388130547447217,1.2176104918556085,1.2431454347100415,1.2176104918556088,1.1388130547447217,0.9987561485570366,0.7777481855795242,0.4121660685747539,0.41216606857475374,0.7777481855795242,0.9987561485570366,1.1388130547447217,1.2176104918556088,1.2431454347100415,1.2176104918556088,1.1388130547447217,0.9987561485570366,0.7777481855795242,0.41216606857475374,0.4121660685747539,0.7777481855795242,0.9987561485570366,1.1388130547447217,1.2176104918556088,1.2431454347100415,1.2176104918556085,1.1388130547447217,0.9987561485570369,0.7777481855795245,0.41216606857475424],\"type\":\"scatter\",\"xaxis\":\"x\",\"yaxis\":\"y\"},{\"line\":{\"color\":\"orange\",\"width\":1},\"marker\":{\"color\":\"orange\",\"size\":5,\"symbol\":\"circle\"},\"mode\":\"lines+markers\",\"name\":\"True Density\",\"x\":[-58.711,-54.431,-51.58,-49.21,-47.06,-45.0,-42.94,-40.79,-38.42,-35.569,-31.289,-13.711,-9.431,-6.58,-4.21,-2.06,-0.0,2.06,4.21,6.58,9.431,13.711,31.289,35.569,38.42,40.79,42.94,45.0,47.06,49.21,51.58,54.431,58.711],\"y\":[0.23364485981308405,0.28046557285093254,0.3830683777054207,0.4424778761061951,0.47505938242280277,0.48543689320388295,0.47505938242280277,0.4424778761061951,0.3830683777054207,0.28046557285093254,0.09149967975112086,0.09149967975112086,0.28046557285093254,0.38306837770542046,0.4424778761061947,0.4750593824228029,0.4854368932038835,0.4750593824228029,0.4424778761061947,0.38306837770542046,0.28046557285093254,0.09149967975112086,0.09149967975112086,0.28046557285093254,0.3830683777054207,0.4424778761061951,0.47505938242280277,0.48543689320388295,0.47505938242280277,0.4424778761061951,0.3830683777054207,0.28046557285093254,0.23364485981308405],\"type\":\"scatter\",\"xaxis\":\"x\",\"yaxis\":\"y\"},{\"line\":{\"color\":\"blue\",\"width\":1},\"marker\":{\"color\":\"blue\",\"size\":5,\"symbol\":\"circle\"},\"mode\":\"lines+markers\",\"name\":\"Spacing\",\"x\":[-58.711,-54.431,-51.58,-49.21,-47.06,-45.0,-42.94,-40.79,-38.42,-35.569,-31.289,-13.711,-9.431,-6.58,-4.21,-2.06,-0.0,2.06,4.21,6.58,9.431,13.711,31.289,35.569,38.42,40.79,42.94,45.0,47.06,49.21,51.58,54.431,58.711],\"y\":[4.280000000000001,3.5655,2.6104999999999983,2.259999999999998,2.1050000000000004,2.0600000000000023,2.1050000000000004,2.259999999999998,2.6104999999999983,3.5655,10.929000000000002,10.929000000000002,3.5655,2.6104999999999996,2.26,2.105,2.06,2.105,2.26,2.6104999999999996,3.5655,10.929000000000002,10.929000000000002,3.5655,2.6104999999999983,2.259999999999998,2.1050000000000004,2.0600000000000023,2.1050000000000004,2.259999999999998,2.6104999999999983,3.5655,4.280000000000001],\"type\":\"scatter\",\"xaxis\":\"x\",\"yaxis\":\"y2\"}],                        {\"template\":{\"data\":{\"histogram2dcontour\":[{\"type\":\"histogram2dcontour\",\"colorbar\":{\"outlinewidth\":0,\"ticks\":\"\"},\"colorscale\":[[0.0,\"#0d0887\"],[0.1111111111111111,\"#46039f\"],[0.2222222222222222,\"#7201a8\"],[0.3333333333333333,\"#9c179e\"],[0.4444444444444444,\"#bd3786\"],[0.5555555555555556,\"#d8576b\"],[0.6666666666666666,\"#ed7953\"],[0.7777777777777778,\"#fb9f3a\"],[0.8888888888888888,\"#fdca26\"],[1.0,\"#f0f921\"]]}],\"choropleth\":[{\"type\":\"choropleth\",\"colorbar\":{\"outlinewidth\":0,\"ticks\":\"\"}}],\"histogram2d\":[{\"type\":\"histogram2d\",\"colorbar\":{\"outlinewidth\":0,\"ticks\":\"\"},\"colorscale\":[[0.0,\"#0d0887\"],[0.1111111111111111,\"#46039f\"],[0.2222222222222222,\"#7201a8\"],[0.3333333333333333,\"#9c179e\"],[0.4444444444444444,\"#bd3786\"],[0.5555555555555556,\"#d8576b\"],[0.6666666666666666,\"#ed7953\"],[0.7777777777777778,\"#fb9f3a\"],[0.8888888888888888,\"#fdca26\"],[1.0,\"#f0f921\"]]}],\"heatmap\":[{\"type\":\"heatmap\",\"colorbar\":{\"outlinewidth\":0,\"ticks\":\"\"},\"colorscale\":[[0.0,\"#0d0887\"],[0.1111111111111111,\"#46039f\"],[0.2222222222222222,\"#7201a8\"],[0.3333333333333333,\"#9c179e\"],[0.4444444444444444,\"#bd3786\"],[0.5555555555555556,\"#d8576b\"],[0.6666666666666666,\"#ed7953\"],[0.7777777777777778,\"#fb9f3a\"],[0.8888888888888888,\"#fdca26\"],[1.0,\"#f0f921\"]]}],\"heatmapgl\":[{\"type\":\"heatmapgl\",\"colorbar\":{\"outlinewidth\":0,\"ticks\":\"\"},\"colorscale\":[[0.0,\"#0d0887\"],[0.1111111111111111,\"#46039f\"],[0.2222222222222222,\"#7201a8\"],[0.3333333333333333,\"#9c179e\"],[0.4444444444444444,\"#bd3786\"],[0.5555555555555556,\"#d8576b\"],[0.6666666666666666,\"#ed7953\"],[0.7777777777777778,\"#fb9f3a\"],[0.8888888888888888,\"#fdca26\"],[1.0,\"#f0f921\"]]}],\"contourcarpet\":[{\"type\":\"contourcarpet\",\"colorbar\":{\"outlinewidth\":0,\"ticks\":\"\"}}],\"contour\":[{\"type\":\"contour\",\"colorbar\":{\"outlinewidth\":0,\"ticks\":\"\"},\"colorscale\":[[0.0,\"#0d0887\"],[0.1111111111111111,\"#46039f\"],[0.2222222222222222,\"#7201a8\"],[0.3333333333333333,\"#9c179e\"],[0.4444444444444444,\"#bd3786\"],[0.5555555555555556,\"#d8576b\"],[0.6666666666666666,\"#ed7953\"],[0.7777777777777778,\"#fb9f3a\"],[0.8888888888888888,\"#fdca26\"],[1.0,\"#f0f921\"]]}],\"surface\":[{\"type\":\"surface\",\"colorbar\":{\"outlinewidth\":0,\"ticks\":\"\"},\"colorscale\":[[0.0,\"#0d0887\"],[0.1111111111111111,\"#46039f\"],[0.2222222222222222,\"#7201a8\"],[0.3333333333333333,\"#9c179e\"],[0.4444444444444444,\"#bd3786\"],[0.5555555555555556,\"#d8576b\"],[0.6666666666666666,\"#ed7953\"],[0.7777777777777778,\"#fb9f3a\"],[0.8888888888888888,\"#fdca26\"],[1.0,\"#f0f921\"]]}],\"mesh3d\":[{\"type\":\"mesh3d\",\"colorbar\":{\"outlinewidth\":0,\"ticks\":\"\"}}],\"scatter\":[{\"marker\":{\"line\":{\"color\":\"#283442\"}},\"type\":\"scatter\"}],\"parcoords\":[{\"type\":\"parcoords\",\"line\":{\"colorbar\":{\"outlinewidth\":0,\"ticks\":\"\"}}}],\"scatterpolargl\":[{\"type\":\"scatterpolargl\",\"marker\":{\"colorbar\":{\"outlinewidth\":0,\"ticks\":\"\"}}}],\"bar\":[{\"error_x\":{\"color\":\"#f2f5fa\"},\"error_y\":{\"color\":\"#f2f5fa\"},\"marker\":{\"line\":{\"color\":\"rgb(17,17,17)\",\"width\":0.5},\"pattern\":{\"fillmode\":\"overlay\",\"size\":10,\"solidity\":0.2}},\"type\":\"bar\"}],\"scattergeo\":[{\"type\":\"scattergeo\",\"marker\":{\"colorbar\":{\"outlinewidth\":0,\"ticks\":\"\"}}}],\"scatterpolar\":[{\"type\":\"scatterpolar\",\"marker\":{\"colorbar\":{\"outlinewidth\":0,\"ticks\":\"\"}}}],\"histogram\":[{\"marker\":{\"pattern\":{\"fillmode\":\"overlay\",\"size\":10,\"solidity\":0.2}},\"type\":\"histogram\"}],\"scattergl\":[{\"marker\":{\"line\":{\"color\":\"#283442\"}},\"type\":\"scattergl\"}],\"scatter3d\":[{\"type\":\"scatter3d\",\"line\":{\"colorbar\":{\"outlinewidth\":0,\"ticks\":\"\"}},\"marker\":{\"colorbar\":{\"outlinewidth\":0,\"ticks\":\"\"}}}],\"scattermapbox\":[{\"type\":\"scattermapbox\",\"marker\":{\"colorbar\":{\"outlinewidth\":0,\"ticks\":\"\"}}}],\"scatterternary\":[{\"type\":\"scatterternary\",\"marker\":{\"colorbar\":{\"outlinewidth\":0,\"ticks\":\"\"}}}],\"scattercarpet\":[{\"type\":\"scattercarpet\",\"marker\":{\"colorbar\":{\"outlinewidth\":0,\"ticks\":\"\"}}}],\"carpet\":[{\"aaxis\":{\"endlinecolor\":\"#A2B1C6\",\"gridcolor\":\"#506784\",\"linecolor\":\"#506784\",\"minorgridcolor\":\"#506784\",\"startlinecolor\":\"#A2B1C6\"},\"baxis\":{\"endlinecolor\":\"#A2B1C6\",\"gridcolor\":\"#506784\",\"linecolor\":\"#506784\",\"minorgridcolor\":\"#506784\",\"startlinecolor\":\"#A2B1C6\"},\"type\":\"carpet\"}],\"table\":[{\"cells\":{\"fill\":{\"color\":\"#506784\"},\"line\":{\"color\":\"rgb(17,17,17)\"}},\"header\":{\"fill\":{\"color\":\"#2a3f5f\"},\"line\":{\"color\":\"rgb(17,17,17)\"}},\"type\":\"table\"}],\"barpolar\":[{\"marker\":{\"line\":{\"color\":\"rgb(17,17,17)\",\"width\":0.5},\"pattern\":{\"fillmode\":\"overlay\",\"size\":10,\"solidity\":0.2}},\"type\":\"barpolar\"}],\"pie\":[{\"automargin\":true,\"type\":\"pie\"}]},\"layout\":{\"autotypenumbers\":\"strict\",\"colorway\":[\"#636efa\",\"#EF553B\",\"#00cc96\",\"#ab63fa\",\"#FFA15A\",\"#19d3f3\",\"#FF6692\",\"#B6E880\",\"#FF97FF\",\"#FECB52\"],\"font\":{\"color\":\"#f2f5fa\"},\"hovermode\":\"closest\",\"hoverlabel\":{\"align\":\"left\"},\"paper_bgcolor\":\"rgb(17,17,17)\",\"plot_bgcolor\":\"rgb(17,17,17)\",\"polar\":{\"bgcolor\":\"rgb(17,17,17)\",\"angularaxis\":{\"gridcolor\":\"#506784\",\"linecolor\":\"#506784\",\"ticks\":\"\"},\"radialaxis\":{\"gridcolor\":\"#506784\",\"linecolor\":\"#506784\",\"ticks\":\"\"}},\"ternary\":{\"bgcolor\":\"rgb(17,17,17)\",\"aaxis\":{\"gridcolor\":\"#506784\",\"linecolor\":\"#506784\",\"ticks\":\"\"},\"baxis\":{\"gridcolor\":\"#506784\",\"linecolor\":\"#506784\",\"ticks\":\"\"},\"caxis\":{\"gridcolor\":\"#506784\",\"linecolor\":\"#506784\",\"ticks\":\"\"}},\"coloraxis\":{\"colorbar\":{\"outlinewidth\":0,\"ticks\":\"\"}},\"colorscale\":{\"sequential\":[[0.0,\"#0d0887\"],[0.1111111111111111,\"#46039f\"],[0.2222222222222222,\"#7201a8\"],[0.3333333333333333,\"#9c179e\"],[0.4444444444444444,\"#bd3786\"],[0.5555555555555556,\"#d8576b\"],[0.6666666666666666,\"#ed7953\"],[0.7777777777777778,\"#fb9f3a\"],[0.8888888888888888,\"#fdca26\"],[1.0,\"#f0f921\"]],\"sequentialminus\":[[0.0,\"#0d0887\"],[0.1111111111111111,\"#46039f\"],[0.2222222222222222,\"#7201a8\"],[0.3333333333333333,\"#9c179e\"],[0.4444444444444444,\"#bd3786\"],[0.5555555555555556,\"#d8576b\"],[0.6666666666666666,\"#ed7953\"],[0.7777777777777778,\"#fb9f3a\"],[0.8888888888888888,\"#fdca26\"],[1.0,\"#f0f921\"]],\"diverging\":[[0,\"#8e0152\"],[0.1,\"#c51b7d\"],[0.2,\"#de77ae\"],[0.3,\"#f1b6da\"],[0.4,\"#fde0ef\"],[0.5,\"#f7f7f7\"],[0.6,\"#e6f5d0\"],[0.7,\"#b8e186\"],[0.8,\"#7fbc41\"],[0.9,\"#4d9221\"],[1,\"#276419\"]]},\"xaxis\":{\"gridcolor\":\"#283442\",\"linecolor\":\"#506784\",\"ticks\":\"\",\"title\":{\"standoff\":15},\"zerolinecolor\":\"#283442\",\"automargin\":true,\"zerolinewidth\":2},\"yaxis\":{\"gridcolor\":\"#283442\",\"linecolor\":\"#506784\",\"ticks\":\"\",\"title\":{\"standoff\":15},\"zerolinecolor\":\"#283442\",\"automargin\":true,\"zerolinewidth\":2},\"scene\":{\"xaxis\":{\"backgroundcolor\":\"rgb(17,17,17)\",\"gridcolor\":\"#506784\",\"linecolor\":\"#506784\",\"showbackground\":true,\"ticks\":\"\",\"zerolinecolor\":\"#C8D4E3\",\"gridwidth\":2},\"yaxis\":{\"backgroundcolor\":\"rgb(17,17,17)\",\"gridcolor\":\"#506784\",\"linecolor\":\"#506784\",\"showbackground\":true,\"ticks\":\"\",\"zerolinecolor\":\"#C8D4E3\",\"gridwidth\":2},\"zaxis\":{\"backgroundcolor\":\"rgb(17,17,17)\",\"gridcolor\":\"#506784\",\"linecolor\":\"#506784\",\"showbackground\":true,\"ticks\":\"\",\"zerolinecolor\":\"#C8D4E3\",\"gridwidth\":2}},\"shapedefaults\":{\"line\":{\"color\":\"#f2f5fa\"}},\"annotationdefaults\":{\"arrowcolor\":\"#f2f5fa\",\"arrowhead\":0,\"arrowwidth\":1},\"geo\":{\"bgcolor\":\"rgb(17,17,17)\",\"landcolor\":\"rgb(17,17,17)\",\"subunitcolor\":\"#506784\",\"showland\":true,\"showlakes\":true,\"lakecolor\":\"rgb(17,17,17)\"},\"title\":{\"x\":0.05},\"updatemenudefaults\":{\"bgcolor\":\"#506784\",\"borderwidth\":0},\"sliderdefaults\":{\"bgcolor\":\"#C8D4E3\",\"borderwidth\":1,\"bordercolor\":\"rgb(17,17,17)\",\"tickwidth\":0},\"mapbox\":{\"style\":\"dark\"}}},\"xaxis\":{\"anchor\":\"y\",\"domain\":[0.0,0.94]},\"yaxis\":{\"anchor\":\"x\",\"domain\":[0.0,1.0],\"title\":{\"text\":\"Density\"}},\"yaxis2\":{\"anchor\":\"x\",\"overlaying\":\"y\",\"side\":\"right\",\"title\":{\"text\":\"Spacing\"},\"range\":[0,20]}},                        {\"responsive\": true}                    ).then(function(){\n                            \nvar gd = document.getElementById('d93149f9-c59d-4781-8972-fbbd3116aa17');\nvar x = new MutationObserver(function (mutations, observer) {{\n        var display = window.getComputedStyle(gd).display;\n        if (!display || display === 'none') {{\n            console.log([gd, 'removed!']);\n            Plotly.purge(gd);\n            observer.disconnect();\n        }}\n}});\n\n// Listen for the removal of the full notebook cells\nvar notebookContainer = gd.closest('#notebook-container');\nif (notebookContainer) {{\n    x.observe(notebookContainer, {childList: true});\n}}\n\n// Listen for the clearing of the current output cell\nvar outputEl = gd.closest('.output');\nif (outputEl) {{\n    x.observe(outputEl, {childList: true});\n}}\n\n                        })                };                });            </script>        </div>"
     },
     "metadata": {},
     "output_type": "display_data"
    }
   ],
   "source": [
    "#!/usr/bin/env python3\n",
    "%matplotlib nbagg\n",
    "import bisect\n",
    "import matplotlib.pyplot as plt\n",
    "import numpy as np\n",
    "import pandas as pd\n",
    "import plotly.graph_objs as go\n",
    "import plotly.subplots as sp\n",
    "import plotly.express as px\n",
    "\n",
    "def second_derivative_magnitude(theta_deg, offset=0,gamma=2):\n",
    "    \"\"\"\n",
    "    Return the magnitude of the second derivative of cos^2(2*theta)\n",
    "    with respect to theta, evaluated at theta_deg (in degrees).\n",
    "    The exact expression is 8 * |cos(4*theta)|.\n",
    "    \"\"\"\n",
    "    # Convert degrees to radians for np.cos\n",
    "    theta_rad = np.radians(theta_deg)\n",
    "    return 8*((1-offset)*abs(np.cos(4.0 * theta_rad))**gamma+offset)\n",
    "\n",
    "def build_cdf_on_0_to_45(num_samples=20000):\n",
    "    \"\"\"\n",
    "    Build a high-resolution CDF of w(theta) = second_derivative_magnitude(theta)\n",
    "    over the fundamental domain [0, 45) degrees. Return (thetas, cdf_vals, total).\n",
    "\n",
    "    - thetas[i]: the i-th sample angle in [0, 45].\n",
    "    - cdf_vals[i]: integral of w from 0 up to thetas[i].\n",
    "    - total: the integral of w from 0 to 45.\n",
    "    \"\"\"\n",
    "    thetas = [45.0 * i / (num_samples - 1) for i in range(num_samples)]\n",
    "    w_vals = [second_derivative_magnitude(t) for t in thetas]\n",
    "\n",
    "    cdf_vals = [0.0]*num_samples\n",
    "    for i in range(1, num_samples):\n",
    "        dt = thetas[i] - thetas[i-1]\n",
    "        cdf_vals[i] = cdf_vals[i-1] + 0.5*(w_vals[i] + w_vals[i-1])*dt\n",
    "\n",
    "    total = cdf_vals[-1]\n",
    "    return thetas, cdf_vals, total\n",
    "\n",
    "def inv_cdf(u, thetas, cdf_vals):\n",
    "    idx = bisect.bisect_left(cdf_vals, u)\n",
    "    if idx == 0:\n",
    "        return 0.0\n",
    "    if idx >= len(cdf_vals):\n",
    "        return 45.0\n",
    "    c0, c1 = cdf_vals[idx-1], cdf_vals[idx]\n",
    "    t0, t1 = thetas[idx-1], thetas[idx]\n",
    "    frac = 0.0 if (c1 == c0) else (u - c0)/(c1 - c0)\n",
    "    return t0 + frac*(t1 - t0)\n",
    "\n",
    "def generate_fundamental_angles(M, thetas_0_45, cdf_0_45, total_0_45):\n",
    "    if M <= 1:\n",
    "        return [0.0]\n",
    "    step = total_0_45 / (M - 1)\n",
    "    angles = [inv_cdf(i * step, thetas_0_45, cdf_0_45) for i in range(M)]\n",
    "    return [min(a, 44.999999) for a in angles]\n",
    "\n",
    "def generate_angles(theta_min_deg, theta_max_deg, N):\n",
    "    thetas_0_45, cdf_0_45, total_0_45 = build_cdf_on_0_to_45()\n",
    "    def count_points_for_M(M):\n",
    "        base_angles = generate_fundamental_angles(M, thetas_0_45, cdf_0_45, total_0_45)\n",
    "        angles_all = set()\n",
    "        k_start = int(np.floor(theta_min_deg/45.0)) - 1\n",
    "        k_end   = int(np.floor(theta_max_deg/45.0)) + 1\n",
    "        for k in range(k_start, k_end+1):\n",
    "            block_lo = 45.0*k\n",
    "            block_hi = 45.0*(k+1)\n",
    "            if block_hi < theta_min_deg or block_lo > theta_max_deg:\n",
    "                continue\n",
    "            shifted = [a + 45.0*k for a in base_angles if (a + 45.0*k) % 45 != 0]\n",
    "            clipped = [x for x in shifted if (x>=theta_min_deg and x<=theta_max_deg)]\n",
    "            angles_all.update(clipped)\n",
    "        return sorted(angles_all)\n",
    "    lo, hi = 1, max(1, N)\n",
    "    best_M, best_diff, best_result = 1, float('inf'), [theta_min_deg]\n",
    "    while lo <= hi:\n",
    "        mid = (lo + hi)//2\n",
    "        angles_mid = count_points_for_M(mid)\n",
    "        diff = abs(len(angles_mid) - N)\n",
    "        if diff < best_diff:\n",
    "            best_diff, best_M, best_result = diff, mid, angles_mid\n",
    "            if diff == 0:\n",
    "                break\n",
    "        if len(angles_mid) < N:\n",
    "            lo = mid + 1\n",
    "        else:\n",
    "            hi = mid - 1\n",
    "    return np.array(best_result)\n",
    "\n",
    "if __name__ == \"__main__\":\n",
    "    theta_min_deg = -60\n",
    "    theta_max_deg = 60\n",
    "    N = 31\n",
    "    angles = generate_angles(theta_min_deg, theta_max_deg, N)\n",
    "    angles=angles.round(3)\n",
    "    angles_string= ', '.join([str(round(angle,3)) for angle in angles])\n",
    "    \n",
    "    print(len(angles))\n",
    "\n",
    "    # Plot results\n",
    "    Ex = np.cos(np.radians(angles))\n",
    "    Ey = np.sin(np.radians(angles))\n",
    "    # E_major = [max(abs(Ex[i]), abs(Ey[i])) for i in range(len(Ex))]\n",
    "    E_major = np.maximum(np.abs(Ex), np.abs(Ey))\n",
    "    E_minor = np.minimum(np.abs(Ex), np.abs(Ey))\n",
    "    ellipticity = E_minor / E_major\n",
    "    handedness = Ex*Ey\n",
    "    peak_intensity = E_major**2\n",
    "    min_intensity = E_minor**2\n",
    "    \n",
    "    df=pd.DataFrame({'Angle':angles, 'Ellipticity':ellipticity, 'Peak Intensity':peak_intensity, 'Min Intensity':min_intensity, 'Handedness':[\"Linear\" if abs(h)<0.001 else \"Right\" if h>0 else \"Left\" for h in handedness]\n",
    "                    , 'Ex':Ex, 'Ey':Ey, \"Local Density\":second_derivative_magnitude(angles)})\n",
    "    display(df)\n",
    "    \n",
    "    fig = px.scatter(df, x='Angle', y='Ellipticity', symbol='Handedness', symbol_map={'Linear':'circle', 'Right':'triangle-up', 'Left':'triangle-down'})\n",
    "    \n",
    "    fig.add_trace(go.Scatter(\n",
    "        x=df['Angle'],\n",
    "        y=df['Ex']**2,\n",
    "        mode='lines+markers',\n",
    "        name='$I_x$',\n",
    "        line=dict(color='red', width=1),\n",
    "        marker=dict(color='red', size=5, symbol='circle')))\n",
    "    fig.add_trace(go.Scatter(\n",
    "        x=df['Angle'],\n",
    "        y=df['Ey']**2,\n",
    "        mode='lines+markers',\n",
    "        name='$I_y$',\n",
    "        line=dict(color='green', width=1),\n",
    "        marker=dict(color='green', size=5, symbol='circle')))\n",
    "    # \n",
    "    # fig.add_trace(\n",
    "    #     go.Scatter(\n",
    "    #         x=df['Angle'],\n",
    "    #         y=second_derivative_magnitude(df['Angle'])/max(second_derivative_magnitude(df['Angle'])),\n",
    "    #         mode='lines+markers',\n",
    "    #         name='Sample Density',\n",
    "    #         line=dict(color='purple', width=1),\n",
    "    #         marker=dict(color='purple', size=5, symbol='circle')))\n",
    "    \n",
    "    fig.show()\n",
    "    display(angles_string)\n",
    "    fig_2=sp.make_subplots(specs=[[{\"secondary_y\": True}]])\n",
    "    theoretical_density = df['Local Density']/np.sum(df['Local Density'])*N\n",
    "    print(sum(theoretical_density), sum(1/np.gradient(df['Angle'])))\n",
    "    print(np.mean(theoretical_density), np.mean(1/np.gradient(df['Angle'])), N/(theta_max_deg-theta_min_deg))\n",
    "    fig_2.add_trace(go.Scatter(x=df['Angle'], y=theoretical_density, mode='lines+markers', name='Theoretical Density', line=dict(color='purple', width=1), marker=dict(color='purple', size=5, symbol='circle')), secondary_y=False)\n",
    "    local_derivative = np.gradient(df['Angle'])\n",
    "    fig_2.add_trace(go.Scatter(x=df['Angle'], y=1/local_derivative, mode='lines+markers', name='True Density', line=dict(color='orange', width=1), marker=dict(color='orange', size=5, symbol='circle')), secondary_y=False)\n",
    "\n",
    "    fig_2.add_trace(go.Scatter(x=df['Angle'], y=local_derivative, mode='lines+markers', name='Spacing', line=dict(color='blue', width=1), marker=dict(color='blue', size=5, symbol='circle')), secondary_y=True)\n",
    "    #adjust the y-axis range\n",
    "    fig_2.update_yaxes(title_text=\"Density\", secondary_y=False)\n",
    "    fig_2.update_yaxes(title_text=\"Spacing\", secondary_y=True, range=[0, 20])\n",
    "    fig_2.show()"
   ]
  },
  {
   "cell_type": "code",
   "outputs": [],
   "source": [],
   "metadata": {
    "collapsed": false
   },
   "id": "e5601ee3a0e4c443"
  }
 ],
 "metadata": {
  "kernelspec": {
   "display_name": "Python 3",
   "language": "python",
   "name": "python3"
  },
  "language_info": {
   "codemirror_mode": {
    "name": "ipython",
    "version": 2
   },
   "file_extension": ".py",
   "mimetype": "text/x-python",
   "name": "python",
   "nbconvert_exporter": "python",
   "pygments_lexer": "ipython2",
   "version": "2.7.6"
  }
 },
 "nbformat": 4,
 "nbformat_minor": 5
}
