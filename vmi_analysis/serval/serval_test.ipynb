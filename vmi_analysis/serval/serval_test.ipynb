{
 "cells": [
  {
   "cell_type": "code",
   "execution_count": null,
   "id": "7883cdce5bb48183",
   "metadata": {
    "collapsed": false
   },
   "outputs": [],
   "source": [
    "%matplotlib notebook\n",
    "import requests\n",
    "import json\n",
    "import pathlib\n",
    "import os\n",
    "import matplotlib.pyplot as plt\n",
    "import h5py\n",
    "\n",
    "\n",
    "def dict_to_string_recursive(d):\n",
    "    lines = []\n",
    "    for k, v in d.items():\n",
    "        if isinstance(v, dict):\n",
    "            lines.append(k + \":\")\n",
    "            lines.extend([\"  \" + l for l in dict_to_string_recursive(v)])\n",
    "        else:\n",
    "            lines.append(k + \": \" + str(v))\n",
    "    return lines"
   ]
  },
  {
   "cell_type": "code",
   "execution_count": null,
   "id": "2e0439a55d24fe0a",
   "metadata": {
    "collapsed": false
   },
   "outputs": [],
   "source": [
    "server = \"http://localhost:8080\"\n",
    "requests.get(server)\n",
    "dashboard = requests.get(server + \"/dashboard\")\n",
    "dash = json.loads(dashboard.text)\n",
    "\n",
    "\n",
    "print(\"\\n\".join(dict_to_string_recursive(dash)))"
   ]
  },
  {
   "cell_type": "code",
   "execution_count": null,
   "id": "86d767c842fd1080",
   "metadata": {
    "collapsed": false
   },
   "outputs": [],
   "source": [
    "bpc_file = r\"C:\\SoPhy\\pixelconfig_20240514.bpc\"\n",
    "dacs_file = r\"C:\\SoPhy\\pixelconfig_20240514.bpc.dacs\"\n",
    "\n",
    "frame_time = 1\n",
    "n_frames = 99999\n",
    "\n",
    "resp = requests.get(server + \"/config/load?format=pixelconfig&file=\" + bpc_file)\n",
    "print(resp.text)\n",
    "resp = requests.get(server + \"/config/load?format=dacs&file=\" + dacs_file)\n",
    "print(resp.text)\n",
    "\n",
    "config = json.loads(requests.get(server + \"/detector/config\").text)\n",
    "print(\"\\n\".join(dict_to_string_recursive(config)))\n",
    "config[\"BiasVoltage\"] = 100\n",
    "config[\"TriggerMode\"] = \"CONTINUOUS\"\n",
    "config[\"ExposureTime\"] = config[\"TriggerPeriod\"] = frame_time\n",
    "config[\"nTriggers\"] = n_frames\n",
    "resp = requests.put(server + \"/detector/config\", data=json.dumps(config))\n",
    "print(resp.text)"
   ]
  },
  {
   "cell_type": "code",
   "execution_count": null,
   "id": "1a151e5ed139012a",
   "metadata": {
    "collapsed": false
   },
   "outputs": [],
   "source": [
    "dest = \"C:/serval_test\"\n",
    "destination = {\n",
    "    \"Raw\": [\n",
    "        {\n",
    "            \"Base\": pathlib.Path(dest).as_uri(),\n",
    "            \"FilePattern\": \"raw%Hms_\",\n",
    "        }\n",
    "    ],\n",
    "}\n",
    "\n",
    "dest2 = {\n",
    "    \"Raw\": [\n",
    "        {\n",
    "            # \"Base\": f\"tcp://127.0.0.1:1234\",\n",
    "            \"FilePattern\": \"\",\n",
    "        }\n",
    "    ],\n",
    "    \"Preview\": {\n",
    "        \"Period\": 0.1,\n",
    "        \"SamplingMode\": \"skipOnFrame\",\n",
    "        \"ImageChannels\": [\n",
    "            {\n",
    "                \"Base\": \"http://localhost:8082\",\n",
    "                \"Format\": \"png\",\n",
    "                \"Mode\": \"count\",\n",
    "                # }, {\n",
    "                #     \"Base\": f\"tcp://{self.preview_ip_total[0]}:{self.preview_ip_total[1]}\",\n",
    "                #     \"Format\": \"jsonimage\",\n",
    "                #     \"Mode\": \"count\",\n",
    "                #     \"IntegrationSize\": -1,\n",
    "                #     \"IntegrationMode\": \"last\"\n",
    "            }\n",
    "        ],\n",
    "    },\n",
    "}\n",
    "print(dest2)\n",
    "destination[\"Preview\"] = dest2[\"Preview\"]\n",
    "print(destination)\n",
    "resp = requests.put(server + \"/server/destination\", data=json.dumps(destination))\n",
    "print(resp.text)\n",
    "resp = requests.get(server + \"/server/destination\")\n",
    "print(resp.text)"
   ]
  },
  {
   "cell_type": "code",
   "execution_count": null,
   "id": "7cde5d7969fa9b26",
   "metadata": {
    "collapsed": false
   },
   "outputs": [],
   "source": [
    "resp = requests.get(server + \"/measurement/start\")\n",
    "print(resp.text)"
   ]
  },
  {
   "cell_type": "code",
   "execution_count": null,
   "id": "9808d5dbd7bd0f67",
   "metadata": {
    "collapsed": false
   },
   "outputs": [],
   "source": [
    "resp = requests.get(server + \"/measurement/stop\")\n",
    "print(resp.text)"
   ]
  },
  {
   "cell_type": "code",
   "execution_count": null,
   "id": "c7b81efa6031a574",
   "metadata": {
    "collapsed": false
   },
   "outputs": [],
   "source": [
    "for file in os.listdir(dest):\n",
    "    if file.endswith(\".tpx3\"):\n",
    "        print(file)"
   ]
  },
  {
   "cell_type": "code",
   "execution_count": null,
   "id": "cb5ca1c3bfb6802e",
   "metadata": {
    "collapsed": false
   },
   "outputs": [],
   "source": [
    "for file in os.listdir(dest):\n",
    "    if file.endswith(\".h5\"):\n",
    "        with h5py.File(dest + \"/\" + file, \"r\") as f:\n",
    "            x = f[\"x\"][:]\n",
    "            y = f[\"y\"][:]\n",
    "        plt.figure()\n",
    "        plt.hist2d(x, y, bins=(256, 256), range=((0, 256), (0, 256)), cmap=\"jet\")\n",
    "        plt.colorbar()"
   ]
  },
  {
   "cell_type": "code",
   "execution_count": null,
   "id": "2be04b3bd79999b2",
   "metadata": {
    "collapsed": false
   },
   "outputs": [],
   "source": []
  }
 ],
 "metadata": {
  "kernelspec": {
   "display_name": "Python 3",
   "language": "python",
   "name": "python3"
  },
  "language_info": {
   "codemirror_mode": {
    "name": "ipython",
    "version": 2
   },
   "file_extension": ".py",
   "mimetype": "text/x-python",
   "name": "python",
   "nbconvert_exporter": "python",
   "pygments_lexer": "ipython2",
   "version": "2.7.6"
  }
 },
 "nbformat": 4,
 "nbformat_minor": 5
}
