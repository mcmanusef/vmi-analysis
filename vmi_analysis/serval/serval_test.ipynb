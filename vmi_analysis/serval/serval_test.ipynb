{
 "cells": [
  {
   "cell_type": "code",
   "outputs": [],
   "source": [
    "%matplotlib notebook\n",
    "import requests\n",
    "import json\n",
    "import time\n",
    "import pathlib\n",
    "import os\n",
    "import matplotlib.pyplot as plt\n",
    "import h5py\n",
    "\n",
    "\n",
    "def dict_to_string_recursive(d):\n",
    "    lines=[]\n",
    "    for k,v in d.items():\n",
    "        if isinstance(v, dict):\n",
    "            lines.append(k + ':')\n",
    "            lines.extend(['  ' + l for l in dict_to_string_recursive(v)])\n",
    "        else:\n",
    "            lines.append(k + ': ' + str(v))\n",
    "    return lines"
   ],
   "metadata": {
    "collapsed": false,
    "ExecuteTime": {
     "end_time": "2024-12-06T23:44:15.783288100Z",
     "start_time": "2024-12-06T23:44:14.844788600Z"
    }
   },
   "id": "7883cdce5bb48183",
   "execution_count": 1
  },
  {
   "cell_type": "code",
   "outputs": [
    {
     "name": "stdout",
     "output_type": "stream",
     "text": [
      "Measurement:\n",
      "  PixelEventRate: 459227\n",
      "  ElapsedTime: 61.727\n",
      "  StartDateTime: 1733528535989\n",
      "  FrameCount: 62\n",
      "  TimeLeft: 0.0\n",
      "  Status: DA_IDLE\n",
      "Detector:\n",
      "  DetectorType: Tpx3\n",
      "Server:\n",
      "  Notifications: []\n",
      "  SoftwareVersion: 2.1.4\n",
      "  SoftwareTimestamp: 2021/03/31 13:40\n"
     ]
    }
   ],
   "source": [
    "server='http://localhost:8080'\n",
    "requests.get(server)\n",
    "dashboard = requests.get(server + '/dashboard')\n",
    "dash=json.loads(dashboard.text)\n",
    "\n",
    "\n",
    "print('\\n'.join(dict_to_string_recursive(dash)))"
   ],
   "metadata": {
    "collapsed": false,
    "ExecuteTime": {
     "end_time": "2024-12-06T23:44:16.863662900Z",
     "start_time": "2024-12-06T23:44:16.840127400Z"
    }
   },
   "id": "2e0439a55d24fe0a",
   "execution_count": 2
  },
  {
   "cell_type": "code",
   "outputs": [
    {
     "name": "stdout",
     "output_type": "stream",
     "text": [
      "Successfully uploaded pixel config.\r\n",
      "\n",
      "Successfully uploaded DAC settings.\r\n",
      "\n",
      "Fan1PWM: 70\n",
      "Fan2PWM: 50\n",
      "BiasVoltage: 100\n",
      "BiasEnabled: True\n",
      "ChainMode: NONE\n",
      "TriggerIn: 0\n",
      "TriggerOut: 0\n",
      "Polarity: Positive\n",
      "TriggerMode: CONTINUOUS\n",
      "ExposureTime: 1.0\n",
      "TriggerPeriod: 1.0\n",
      "nTriggers: 99999\n",
      "DetectorOrientation: UP\n",
      "PeriphClk80: False\n",
      "TriggerDelay: 0.0\n",
      "Tdc: ['PN0123', 'PN0123']\n",
      "LogLevel: 1\n",
      "Successfully uploaded detector config.\r\n"
     ]
    }
   ],
   "source": [
    "bpc_file=r\"C:\\SoPhy\\pixelconfig_20240514.bpc\"\n",
    "dacs_file=r\"C:\\SoPhy\\pixelconfig_20240514.bpc.dacs\"\n",
    "\n",
    "frame_time=1\n",
    "n_frames=99999\n",
    "\n",
    "resp= requests.get(server + '/config/load?format=pixelconfig&file=' + bpc_file)\n",
    "print(resp.text)\n",
    "resp= requests.get(server + '/config/load?format=dacs&file=' + dacs_file)\n",
    "print(resp.text)\n",
    "\n",
    "config=json.loads(requests.get(server + '/detector/config').text)\n",
    "print('\\n'.join(dict_to_string_recursive(config)))\n",
    "config['BiasVoltage']=100\n",
    "config['TriggerMode']='CONTINUOUS'\n",
    "config['ExposureTime']=config['TriggerPeriod']=frame_time\n",
    "config['nTriggers']=n_frames\n",
    "resp=requests.put(server + '/detector/config', data=json.dumps(config))\n",
    "print(resp.text)"
   ],
   "metadata": {
    "collapsed": false,
    "ExecuteTime": {
     "end_time": "2024-12-06T23:44:19.231451200Z",
     "start_time": "2024-12-06T23:44:18.842228300Z"
    }
   },
   "id": "86d767c842fd1080",
   "execution_count": 3
  },
  {
   "cell_type": "code",
   "outputs": [
    {
     "name": "stdout",
     "output_type": "stream",
     "text": [
      "{'Raw': [{'FilePattern': ''}], 'Preview': {'Period': 0.1, 'SamplingMode': 'skipOnFrame', 'ImageChannels': [{'Base': 'http://localhost:8082', 'Format': 'png', 'Mode': 'count'}]}}\n",
      "{'Raw': [{'Base': 'file:///C:/serval_test', 'FilePattern': 'raw%Hms_'}], 'Preview': {'Period': 0.1, 'SamplingMode': 'skipOnFrame', 'ImageChannels': [{'Base': 'http://localhost:8082', 'Format': 'png', 'Mode': 'count'}]}}\n",
      "Successfully uploaded destination configuration.\r\n",
      "\n",
      "{\r\n",
      "  \"Raw\" : [ {\r\n",
      "    \"Base\" : \"file:///C:/serval_test\",\r\n",
      "    \"FilePattern\" : \"raw%Hms_\"\r\n",
      "  } ],\r\n",
      "  \"Preview\" : {\r\n",
      "    \"Period\" : 0.1,\r\n",
      "    \"SamplingMode\" : \"skipOnFrame\",\r\n",
      "    \"ImageChannels\" : [ {\r\n",
      "      \"Base\" : \"http://localhost:8082\",\r\n",
      "      \"Format\" : \"png\",\r\n",
      "      \"Mode\" : \"count\",\r\n",
      "      \"IntegrationSize\" : 0\r\n",
      "    } ]\r\n",
      "  }\r\n",
      "}\r\n"
     ]
    }
   ],
   "source": [
    "dest='C:/serval_test'\n",
    "destination = {\n",
    "    \"Raw\": [{\"Base\": pathlib.Path(dest).as_uri(),\n",
    "             \"FilePattern\": \"raw%Hms_\",\n",
    "             }],\n",
    "}\n",
    "\n",
    "dest2={\n",
    "    \"Raw\": [{\n",
    "        # \"Base\": f\"tcp://127.0.0.1:1234\",\n",
    "        \"FilePattern\": \"\",\n",
    "    }],\n",
    "\n",
    "    \"Preview\": {\n",
    "        \"Period\": 0.1,\n",
    "        \"SamplingMode\": \"skipOnFrame\",\n",
    "        \"ImageChannels\": [{\n",
    "            \"Base\": f\"http://localhost:8082\",\n",
    "            \"Format\": \"png\",\n",
    "            \"Mode\": \"count\",\n",
    "            # }, {\n",
    "            #     \"Base\": f\"tcp://{self.preview_ip_total[0]}:{self.preview_ip_total[1]}\",\n",
    "            #     \"Format\": \"jsonimage\",\n",
    "            #     \"Mode\": \"count\",\n",
    "            #     \"IntegrationSize\": -1,\n",
    "            #     \"IntegrationMode\": \"last\"\n",
    "        }]\n",
    "    }\n",
    "}\n",
    "print(dest2)\n",
    "destination['Preview']=dest2['Preview']\n",
    "print(destination)\n",
    "resp=requests.put(server + '/server/destination', data=json.dumps(destination))\n",
    "print(resp.text)\n",
    "resp=requests.get(server + '/server/destination')\n",
    "print(resp.text)"
   ],
   "metadata": {
    "collapsed": false,
    "ExecuteTime": {
     "end_time": "2024-12-06T23:46:25.735534100Z",
     "start_time": "2024-12-06T23:46:25.708333Z"
    }
   },
   "id": "1a151e5ed139012a",
   "execution_count": 12
  },
  {
   "cell_type": "code",
   "outputs": [
    {
     "name": "stdout",
     "output_type": "stream",
     "text": [
      "Successfully started measurement.\r\n"
     ]
    }
   ],
   "source": [
    "resp=requests.get(server+'/measurement/start')\n",
    "print(resp.text)"
   ],
   "metadata": {
    "collapsed": false,
    "ExecuteTime": {
     "end_time": "2024-12-06T23:46:29.578133900Z",
     "start_time": "2024-12-06T23:46:29.533495600Z"
    }
   },
   "id": "7cde5d7969fa9b26",
   "execution_count": 13
  },
  {
   "cell_type": "code",
   "outputs": [
    {
     "name": "stdout",
     "output_type": "stream",
     "text": [
      "Successfully stopped measurement.\r\n"
     ]
    }
   ],
   "source": [
    "resp=requests.get(server+'/measurement/stop')\n",
    "print(resp.text)"
   ],
   "metadata": {
    "collapsed": false,
    "ExecuteTime": {
     "end_time": "2024-12-06T23:46:19.366072800Z",
     "start_time": "2024-12-06T23:46:19.316026100Z"
    }
   },
   "id": "9808d5dbd7bd0f67",
   "execution_count": 11
  },
  {
   "cell_type": "code",
   "outputs": [],
   "source": [
    "for file in os.listdir(dest):\n",
    "    if file.endswith('.tpx3'):\n",
    "        print(file)"
   ],
   "metadata": {
    "collapsed": false
   },
   "id": "c7b81efa6031a574",
   "execution_count": null
  },
  {
   "cell_type": "code",
   "outputs": [],
   "source": [
    "for file in os.listdir(dest):\n",
    "    if file.endswith('.h5'):\n",
    "        with h5py.File(dest + '/' + file, 'r') as f:\n",
    "            x=f['x'][:]\n",
    "            y=f['y'][:]\n",
    "        plt.figure()\n",
    "        plt.hist2d(x, y, bins=(256,256), range=((0,256),(0,256)), cmap='jet')\n",
    "        plt.colorbar()"
   ],
   "metadata": {
    "collapsed": false
   },
   "id": "cb5ca1c3bfb6802e",
   "execution_count": null
  },
  {
   "cell_type": "code",
   "outputs": [],
   "source": [],
   "metadata": {
    "collapsed": false
   },
   "id": "2be04b3bd79999b2",
   "execution_count": null
  }
 ],
 "metadata": {
  "kernelspec": {
   "display_name": "Python 3",
   "language": "python",
   "name": "python3"
  },
  "language_info": {
   "codemirror_mode": {
    "name": "ipython",
    "version": 2
   },
   "file_extension": ".py",
   "mimetype": "text/x-python",
   "name": "python",
   "nbconvert_exporter": "python",
   "pygments_lexer": "ipython2",
   "version": "2.7.6"
  }
 },
 "nbformat": 4,
 "nbformat_minor": 5
}
