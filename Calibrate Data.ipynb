{
 "cells": [
  {
   "cell_type": "code",
   "id": "initial_id",
   "metadata": {
    "collapsed": true,
    "ExecuteTime": {
     "end_time": "2025-03-13T18:08:48.209490Z",
     "start_time": "2025-03-13T18:08:43.298106Z"
    }
   },
   "source": [
    "from vmi_analysis import coincidence_v4\n",
    "import os\n",
    "import numpy as np\n",
    "import pandas as pd\n",
    "\n",
    "from vmi_analysis.calibrations import calibration_20250303, itof_calibration\n",
    "\n",
    "\n",
    "def process_file(file, save_path, calibration=calibration_20250303, symmetrize=False, itof_calibration=itof_calibration):\n",
    "    x,y,t,etof,itof=coincidence_v4.load_file(file)\n",
    "    etof += 0.26*np.random.random_sample(len(etof))\n",
    "    px, py, pz= calibration(x,y,etof,symmetrize=symmetrize)\n",
    "    data = pd.DataFrame({'px':px, 'py':py, 'pz':pz, 'm/q':itof_calibration(itof)})\n",
    "    data.to_hdf(save_path, key='data', mode='w')\n",
    "    \n",
    "def process_folder(folder, save_folder=None, calibration=calibration_20250303, symmetrize=False, itof_calibration=itof_calibration):\n",
    "    if save_folder is None:\n",
    "        save_folder = os.path.join(folder, 'calibrated')\n",
    "    if not os.path.exists(save_folder):\n",
    "        os.makedirs(save_folder)\n",
    "    for file in os.listdir(folder):\n",
    "        if file.endswith('.cv4'):\n",
    "            print(f'Processing {file}')\n",
    "            save_path = os.path.join(save_folder, file.replace('.cv4', '_calibrated.h5'))\n",
    "            process_file(os.path.join(folder, file), save_path, calibration, symmetrize, itof_calibration)\n",
    "            print(f'Saved to {save_path}')    "
   ],
   "outputs": [],
   "execution_count": 2
  },
  {
   "metadata": {
    "ExecuteTime": {
     "end_time": "2025-03-13T18:18:41.960874Z",
     "start_time": "2025-03-13T18:09:32.757025Z"
    }
   },
   "cell_type": "code",
   "source": [
    "fname=r\"J:\\ctgroup\\Edward\\DATA\\VMI\\20250307\"\n",
    "# process_folder(fname)\n",
    "\n",
    "if not os.path.exists(os.path.join(fname, \"Intensity Scan\")):\n",
    "    os.makedirs(os.path.join(fname, \"Intensity Scan\"))\n",
    "for f in os.listdir(fname):\n",
    "    if f.endswith('30deg'):\n",
    "        process_file(os.path.join(fname, f, \"30.cv4\"), os.path.join(fname, \"Intensity Scan\", f.split('w')[0].strip('po')+ '_calibrated.h5'))"
   ],
   "id": "679972d45a3de6f1",
   "outputs": [
    {
     "name": "stdout",
     "output_type": "stream",
     "text": [
      "Loading J:\\ctgroup\\Edward\\DATA\\VMI\\20250307\\po2,5w30deg\\30.mat\n",
      "Loading J:\\ctgroup\\Edward\\DATA\\VMI\\20250307\\po2w30deg\\30.mat\n",
      "Loading J:\\ctgroup\\Edward\\DATA\\VMI\\20250307\\po3,5w30deg\\30.mat\n",
      "Loading J:\\ctgroup\\Edward\\DATA\\VMI\\20250307\\po3w30deg\\30.mat\n",
      "Calculating J:\\ctgroup\\Edward\\DATA\\VMI\\20250307\\po4,5w30deg\\30.mat\n",
      "Loading J:\\ctgroup\\Edward\\DATA\\VMI\\20250307\\po4,5w30deg\\30.cv4 (Coincidence): 9712335 clusters, 6355680 etofs, 4374743 itofs\n",
      "Saving to J:\\ctgroup\\Edward\\DATA\\VMI\\20250307\\po4,5w30deg\\30.mat\n"
     ]
    },
    {
     "name": "stderr",
     "output_type": "stream",
     "text": [
      "C:\\Users\\mcman\\anaconda3\\envs\\vmi-analysis\\lib\\site-packages\\numpy\\lib\\polynomial.py:780: RuntimeWarning: overflow encountered in multiply\n",
      "  y = y * x + pv\n"
     ]
    },
    {
     "name": "stdout",
     "output_type": "stream",
     "text": [
      "Loading J:\\ctgroup\\Edward\\DATA\\VMI\\20250307\\po4w30deg\\30.mat\n",
      "Loading J:\\ctgroup\\Edward\\DATA\\VMI\\20250307\\po5w30deg\\30.mat\n",
      "Calculating J:\\ctgroup\\Edward\\DATA\\VMI\\20250307\\po6w30deg\\30.mat\n",
      "Loading J:\\ctgroup\\Edward\\DATA\\VMI\\20250307\\po6w30deg\\30.cv4 (Coincidence): 11764295 clusters, 7560219 etofs, 5388038 itofs\n",
      "Saving to J:\\ctgroup\\Edward\\DATA\\VMI\\20250307\\po6w30deg\\30.mat\n",
      "Calculating J:\\ctgroup\\Edward\\DATA\\VMI\\20250307\\po7w30deg\\30.mat\n",
      "Loading J:\\ctgroup\\Edward\\DATA\\VMI\\20250307\\po7w30deg\\30.cv4 (Coincidence): 10143149 clusters, 6529630 etofs, 4358222 itofs\n",
      "Saving to J:\\ctgroup\\Edward\\DATA\\VMI\\20250307\\po7w30deg\\30.mat\n",
      "Loading J:\\ctgroup\\Edward\\DATA\\VMI\\20250307\\po8w30deg\\30.mat\n",
      "Calculating J:\\ctgroup\\Edward\\DATA\\VMI\\20250307\\po9w30deg\\30.mat\n",
      "Loading J:\\ctgroup\\Edward\\DATA\\VMI\\20250307\\po9w30deg\\30.cv4 (Coincidence): 8270949 clusters, 5077924 etofs, 3034145 itofs\n",
      "Saving to J:\\ctgroup\\Edward\\DATA\\VMI\\20250307\\po9w30deg\\30.mat\n"
     ]
    }
   ],
   "execution_count": 4
  },
  {
   "metadata": {},
   "cell_type": "code",
   "outputs": [],
   "execution_count": null,
   "source": "",
   "id": "cb893b4cf415eceb"
  }
 ],
 "metadata": {
  "kernelspec": {
   "display_name": "Python 3",
   "language": "python",
   "name": "python3"
  },
  "language_info": {
   "codemirror_mode": {
    "name": "ipython",
    "version": 2
   },
   "file_extension": ".py",
   "mimetype": "text/x-python",
   "name": "python",
   "nbconvert_exporter": "python",
   "pygments_lexer": "ipython2",
   "version": "2.7.6"
  }
 },
 "nbformat": 4,
 "nbformat_minor": 5
}
